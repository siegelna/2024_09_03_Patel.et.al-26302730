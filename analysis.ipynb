{
 "cells": [
  {
   "cell_type": "code",
   "execution_count": 13,
   "metadata": {
    "vscode": {
     "languageId": "r"
    }
   },
   "outputs": [],
   "source": [
    "suppressPackageStartupMessages({\n",
    "    library(GEOquery)\n",
    "    library(edgeR)\n",
    "    library(dplyr)\n",
    "    library(biomaRt)\n",
    "    library(ggplot2)\n",
    "    library(reshape2)\n",
    "    library(hugene10stprobeset.db)\n",
    "    library(tidyr)\n",
    "    library(stringr)\n",
    "})"
   ]
  },
  {
   "cell_type": "code",
   "execution_count": 2,
   "metadata": {
    "vscode": {
     "languageId": "r"
    }
   },
   "outputs": [
    {
     "name": "stderr",
     "output_type": "stream",
     "text": [
      "Found 1 file(s)\n",
      "\n",
      "GSE57178_series_matrix.txt.gz\n",
      "\n"
     ]
    },
    {
     "data": {
      "text/html": [
       "<table class=\"dataframe\">\n",
       "<caption>A matrix: 6 × 18 of type dbl</caption>\n",
       "<thead>\n",
       "\t<tr><th></th><th scope=col>GSM1376737</th><th scope=col>GSM1376738</th><th scope=col>GSM1376739</th><th scope=col>GSM1376740</th><th scope=col>GSM1376741</th><th scope=col>GSM1376742</th><th scope=col>GSM1376743</th><th scope=col>GSM1376744</th><th scope=col>GSM1376745</th><th scope=col>GSM1376746</th><th scope=col>GSM1376747</th><th scope=col>GSM1376748</th><th scope=col>GSM1376749</th><th scope=col>GSM1376750</th><th scope=col>GSM1376751</th><th scope=col>GSM1376752</th><th scope=col>GSM1376753</th><th scope=col>GSM1376754</th></tr>\n",
       "</thead>\n",
       "<tbody>\n",
       "\t<tr><th scope=row>7892501</th><td>6.46686</td><td>5.80707</td><td>6.18706</td><td>6.12905</td><td>6.00000</td><td>6.38717</td><td>5.87161</td><td>5.55011</td><td>5.43289</td><td>4.87511</td><td>6.71900</td><td>6.36994</td><td>5.99168</td><td>6.05723</td><td>6.29622</td><td>6.07141</td><td>5.58017</td><td>6.58692</td></tr>\n",
       "\t<tr><th scope=row>7892502</th><td>6.23867</td><td>5.45787</td><td>5.54593</td><td>5.70058</td><td>5.88025</td><td>5.46561</td><td>5.40016</td><td>5.70585</td><td>5.89744</td><td>5.85964</td><td>5.74370</td><td>5.97921</td><td>5.45791</td><td>5.59953</td><td>5.57489</td><td>5.67623</td><td>5.36112</td><td>5.68307</td></tr>\n",
       "\t<tr><th scope=row>7892503</th><td>4.22012</td><td>4.70004</td><td>4.16694</td><td>4.29442</td><td>4.23937</td><td>4.26177</td><td>4.44598</td><td>3.89638</td><td>4.13304</td><td>4.54395</td><td>4.31386</td><td>4.18171</td><td>4.49276</td><td>3.94544</td><td>4.59157</td><td>4.21806</td><td>5.10309</td><td>4.19518</td></tr>\n",
       "\t<tr><th scope=row>7892504</th><td>9.17712</td><td>9.23920</td><td>9.04600</td><td>9.05245</td><td>9.40533</td><td>9.73973</td><td>8.86919</td><td>9.33503</td><td>9.33948</td><td>9.26910</td><td>9.17750</td><td>9.16691</td><td>9.37063</td><td>9.21811</td><td>9.23594</td><td>9.66123</td><td>9.09848</td><td>9.19735</td></tr>\n",
       "\t<tr><th scope=row>7892505</th><td>5.23201</td><td>5.26065</td><td>4.62539</td><td>5.27837</td><td>4.85971</td><td>5.41090</td><td>5.34409</td><td>4.71479</td><td>5.27633</td><td>4.75232</td><td>4.98828</td><td>4.88814</td><td>5.04073</td><td>5.12542</td><td>4.93100</td><td>5.08791</td><td>5.23171</td><td>4.92252</td></tr>\n",
       "\t<tr><th scope=row>7892506</th><td>4.14614</td><td>3.80165</td><td>3.85133</td><td>3.90198</td><td>3.96003</td><td>4.15932</td><td>3.76416</td><td>3.72104</td><td>3.50456</td><td>3.94329</td><td>4.17497</td><td>4.34645</td><td>3.97638</td><td>3.95167</td><td>4.18404</td><td>3.84538</td><td>4.08420</td><td>4.24203</td></tr>\n",
       "</tbody>\n",
       "</table>\n"
      ],
      "text/latex": [
       "A matrix: 6 × 18 of type dbl\n",
       "\\begin{tabular}{r|llllllllllllllllll}\n",
       "  & GSM1376737 & GSM1376738 & GSM1376739 & GSM1376740 & GSM1376741 & GSM1376742 & GSM1376743 & GSM1376744 & GSM1376745 & GSM1376746 & GSM1376747 & GSM1376748 & GSM1376749 & GSM1376750 & GSM1376751 & GSM1376752 & GSM1376753 & GSM1376754\\\\\n",
       "\\hline\n",
       "\t7892501 & 6.46686 & 5.80707 & 6.18706 & 6.12905 & 6.00000 & 6.38717 & 5.87161 & 5.55011 & 5.43289 & 4.87511 & 6.71900 & 6.36994 & 5.99168 & 6.05723 & 6.29622 & 6.07141 & 5.58017 & 6.58692\\\\\n",
       "\t7892502 & 6.23867 & 5.45787 & 5.54593 & 5.70058 & 5.88025 & 5.46561 & 5.40016 & 5.70585 & 5.89744 & 5.85964 & 5.74370 & 5.97921 & 5.45791 & 5.59953 & 5.57489 & 5.67623 & 5.36112 & 5.68307\\\\\n",
       "\t7892503 & 4.22012 & 4.70004 & 4.16694 & 4.29442 & 4.23937 & 4.26177 & 4.44598 & 3.89638 & 4.13304 & 4.54395 & 4.31386 & 4.18171 & 4.49276 & 3.94544 & 4.59157 & 4.21806 & 5.10309 & 4.19518\\\\\n",
       "\t7892504 & 9.17712 & 9.23920 & 9.04600 & 9.05245 & 9.40533 & 9.73973 & 8.86919 & 9.33503 & 9.33948 & 9.26910 & 9.17750 & 9.16691 & 9.37063 & 9.21811 & 9.23594 & 9.66123 & 9.09848 & 9.19735\\\\\n",
       "\t7892505 & 5.23201 & 5.26065 & 4.62539 & 5.27837 & 4.85971 & 5.41090 & 5.34409 & 4.71479 & 5.27633 & 4.75232 & 4.98828 & 4.88814 & 5.04073 & 5.12542 & 4.93100 & 5.08791 & 5.23171 & 4.92252\\\\\n",
       "\t7892506 & 4.14614 & 3.80165 & 3.85133 & 3.90198 & 3.96003 & 4.15932 & 3.76416 & 3.72104 & 3.50456 & 3.94329 & 4.17497 & 4.34645 & 3.97638 & 3.95167 & 4.18404 & 3.84538 & 4.08420 & 4.24203\\\\\n",
       "\\end{tabular}\n"
      ],
      "text/markdown": [
       "\n",
       "A matrix: 6 × 18 of type dbl\n",
       "\n",
       "| <!--/--> | GSM1376737 | GSM1376738 | GSM1376739 | GSM1376740 | GSM1376741 | GSM1376742 | GSM1376743 | GSM1376744 | GSM1376745 | GSM1376746 | GSM1376747 | GSM1376748 | GSM1376749 | GSM1376750 | GSM1376751 | GSM1376752 | GSM1376753 | GSM1376754 |\n",
       "|---|---|---|---|---|---|---|---|---|---|---|---|---|---|---|---|---|---|---|\n",
       "| 7892501 | 6.46686 | 5.80707 | 6.18706 | 6.12905 | 6.00000 | 6.38717 | 5.87161 | 5.55011 | 5.43289 | 4.87511 | 6.71900 | 6.36994 | 5.99168 | 6.05723 | 6.29622 | 6.07141 | 5.58017 | 6.58692 |\n",
       "| 7892502 | 6.23867 | 5.45787 | 5.54593 | 5.70058 | 5.88025 | 5.46561 | 5.40016 | 5.70585 | 5.89744 | 5.85964 | 5.74370 | 5.97921 | 5.45791 | 5.59953 | 5.57489 | 5.67623 | 5.36112 | 5.68307 |\n",
       "| 7892503 | 4.22012 | 4.70004 | 4.16694 | 4.29442 | 4.23937 | 4.26177 | 4.44598 | 3.89638 | 4.13304 | 4.54395 | 4.31386 | 4.18171 | 4.49276 | 3.94544 | 4.59157 | 4.21806 | 5.10309 | 4.19518 |\n",
       "| 7892504 | 9.17712 | 9.23920 | 9.04600 | 9.05245 | 9.40533 | 9.73973 | 8.86919 | 9.33503 | 9.33948 | 9.26910 | 9.17750 | 9.16691 | 9.37063 | 9.21811 | 9.23594 | 9.66123 | 9.09848 | 9.19735 |\n",
       "| 7892505 | 5.23201 | 5.26065 | 4.62539 | 5.27837 | 4.85971 | 5.41090 | 5.34409 | 4.71479 | 5.27633 | 4.75232 | 4.98828 | 4.88814 | 5.04073 | 5.12542 | 4.93100 | 5.08791 | 5.23171 | 4.92252 |\n",
       "| 7892506 | 4.14614 | 3.80165 | 3.85133 | 3.90198 | 3.96003 | 4.15932 | 3.76416 | 3.72104 | 3.50456 | 3.94329 | 4.17497 | 4.34645 | 3.97638 | 3.95167 | 4.18404 | 3.84538 | 4.08420 | 4.24203 |\n",
       "\n"
      ],
      "text/plain": [
       "        GSM1376737 GSM1376738 GSM1376739 GSM1376740 GSM1376741 GSM1376742\n",
       "7892501 6.46686    5.80707    6.18706    6.12905    6.00000    6.38717   \n",
       "7892502 6.23867    5.45787    5.54593    5.70058    5.88025    5.46561   \n",
       "7892503 4.22012    4.70004    4.16694    4.29442    4.23937    4.26177   \n",
       "7892504 9.17712    9.23920    9.04600    9.05245    9.40533    9.73973   \n",
       "7892505 5.23201    5.26065    4.62539    5.27837    4.85971    5.41090   \n",
       "7892506 4.14614    3.80165    3.85133    3.90198    3.96003    4.15932   \n",
       "        GSM1376743 GSM1376744 GSM1376745 GSM1376746 GSM1376747 GSM1376748\n",
       "7892501 5.87161    5.55011    5.43289    4.87511    6.71900    6.36994   \n",
       "7892502 5.40016    5.70585    5.89744    5.85964    5.74370    5.97921   \n",
       "7892503 4.44598    3.89638    4.13304    4.54395    4.31386    4.18171   \n",
       "7892504 8.86919    9.33503    9.33948    9.26910    9.17750    9.16691   \n",
       "7892505 5.34409    4.71479    5.27633    4.75232    4.98828    4.88814   \n",
       "7892506 3.76416    3.72104    3.50456    3.94329    4.17497    4.34645   \n",
       "        GSM1376749 GSM1376750 GSM1376751 GSM1376752 GSM1376753 GSM1376754\n",
       "7892501 5.99168    6.05723    6.29622    6.07141    5.58017    6.58692   \n",
       "7892502 5.45791    5.59953    5.57489    5.67623    5.36112    5.68307   \n",
       "7892503 4.49276    3.94544    4.59157    4.21806    5.10309    4.19518   \n",
       "7892504 9.37063    9.21811    9.23594    9.66123    9.09848    9.19735   \n",
       "7892505 5.04073    5.12542    4.93100    5.08791    5.23171    4.92252   \n",
       "7892506 3.97638    3.95167    4.18404    3.84538    4.08420    4.24203   "
      ]
     },
     "metadata": {},
     "output_type": "display_data"
    }
   ],
   "source": [
    "# Download GEO data\n",
    "gse <- getGEO(\"GSE57178\", GSEMatrix = TRUE)\n",
    "exprSet <- exprs(gse[[1]])\n",
    "head(exprSet)"
   ]
  },
  {
   "cell_type": "code",
   "execution_count": 33,
   "metadata": {},
   "outputs": [
    {
     "data": {
      "text/html": [
       "<table class=\"dataframe\">\n",
       "<caption>A data.frame: 6 × 1</caption>\n",
       "<thead>\n",
       "\t<tr><th></th><th scope=col>mapping$gene_assignment</th></tr>\n",
       "\t<tr><th></th><th scope=col>&lt;chr&gt;</th></tr>\n",
       "</thead>\n",
       "<tbody>\n",
       "\t<tr><th scope=row>1</th><td>NA         </td></tr>\n",
       "\t<tr><th scope=row>2</th><td> OR4G2P    </td></tr>\n",
       "\t<tr><th scope=row>3</th><td> OR4F4     </td></tr>\n",
       "\t<tr><th scope=row>4</th><td> LOC728323 </td></tr>\n",
       "\t<tr><th scope=row>5</th><td> OR4F29    </td></tr>\n",
       "\t<tr><th scope=row>6</th><td> MT-TM     </td></tr>\n",
       "</tbody>\n",
       "</table>\n"
      ],
      "text/latex": [
       "A data.frame: 6 × 1\n",
       "\\begin{tabular}{r|l}\n",
       "  & mapping\\$gene\\_assignment\\\\\n",
       "  & <chr>\\\\\n",
       "\\hline\n",
       "\t1 & NA         \\\\\n",
       "\t2 &  OR4G2P    \\\\\n",
       "\t3 &  OR4F4     \\\\\n",
       "\t4 &  LOC728323 \\\\\n",
       "\t5 &  OR4F29    \\\\\n",
       "\t6 &  MT-TM     \\\\\n",
       "\\end{tabular}\n"
      ],
      "text/markdown": [
       "\n",
       "A data.frame: 6 × 1\n",
       "\n",
       "| <!--/--> | mapping$gene_assignment &lt;chr&gt; |\n",
       "|---|---|\n",
       "| 1 | NA          |\n",
       "| 2 |  OR4G2P     |\n",
       "| 3 |  OR4F4      |\n",
       "| 4 |  LOC728323  |\n",
       "| 5 |  OR4F29     |\n",
       "| 6 |  MT-TM      |\n",
       "\n"
      ],
      "text/plain": [
       "  mapping$gene_assignment\n",
       "1 NA                     \n",
       "2  OR4G2P                \n",
       "3  OR4F4                 \n",
       "4  LOC728323             \n",
       "5  OR4F29                \n",
       "6  MT-TM                 "
      ]
     },
     "metadata": {},
     "output_type": "display_data"
    }
   ],
   "source": [
    "mapping <- read.delim(\"mapping.txt.gz\", header = TRUE, skip = 12)\n",
    "mapping$gene_assignment <- str_extract(mapping$gene_assignment, \"(?<=//)[^/]*(?=//)\")\n",
    "mapping <- as.data.frame(mapping$gene_assignment)\n",
    "head(mapping)"
   ]
  },
  {
   "cell_type": "code",
   "execution_count": 34,
   "metadata": {},
   "outputs": [],
   "source": [
    "mapping$RowIndex <- seq_len(nrow(mapping))\n",
    "\n",
    "exprSet <- as.data.frame(exprSet)\n",
    "exprSet$RowIndex <- seq_len(nrow(exprSet))"
   ]
  },
  {
   "cell_type": "code",
   "execution_count": 35,
   "metadata": {
    "vscode": {
     "languageId": "r"
    }
   },
   "outputs": [
    {
     "data": {
      "text/html": [
       "<table class=\"dataframe\">\n",
       "<caption>A data.frame: 6 × 19</caption>\n",
       "<thead>\n",
       "\t<tr><th></th><th scope=col>mapping$gene_assignment</th><th scope=col>GSM1376737</th><th scope=col>GSM1376738</th><th scope=col>GSM1376739</th><th scope=col>GSM1376740</th><th scope=col>GSM1376741</th><th scope=col>GSM1376742</th><th scope=col>GSM1376743</th><th scope=col>GSM1376744</th><th scope=col>GSM1376745</th><th scope=col>GSM1376746</th><th scope=col>GSM1376747</th><th scope=col>GSM1376748</th><th scope=col>GSM1376749</th><th scope=col>GSM1376750</th><th scope=col>GSM1376751</th><th scope=col>GSM1376752</th><th scope=col>GSM1376753</th><th scope=col>GSM1376754</th></tr>\n",
       "\t<tr><th></th><th scope=col>&lt;chr&gt;</th><th scope=col>&lt;dbl&gt;</th><th scope=col>&lt;dbl&gt;</th><th scope=col>&lt;dbl&gt;</th><th scope=col>&lt;dbl&gt;</th><th scope=col>&lt;dbl&gt;</th><th scope=col>&lt;dbl&gt;</th><th scope=col>&lt;dbl&gt;</th><th scope=col>&lt;dbl&gt;</th><th scope=col>&lt;dbl&gt;</th><th scope=col>&lt;dbl&gt;</th><th scope=col>&lt;dbl&gt;</th><th scope=col>&lt;dbl&gt;</th><th scope=col>&lt;dbl&gt;</th><th scope=col>&lt;dbl&gt;</th><th scope=col>&lt;dbl&gt;</th><th scope=col>&lt;dbl&gt;</th><th scope=col>&lt;dbl&gt;</th><th scope=col>&lt;dbl&gt;</th></tr>\n",
       "</thead>\n",
       "<tbody>\n",
       "\t<tr><th scope=row>1</th><td>NA         </td><td>6.46686</td><td>5.80707</td><td>6.18706</td><td>6.12905</td><td>6.00000</td><td>6.38717</td><td>5.87161</td><td>5.55011</td><td>5.43289</td><td>4.87511</td><td>6.71900</td><td>6.36994</td><td>5.99168</td><td>6.05723</td><td>6.29622</td><td>6.07141</td><td>5.58017</td><td>6.58692</td></tr>\n",
       "\t<tr><th scope=row>2</th><td> OR4G2P    </td><td>6.23867</td><td>5.45787</td><td>5.54593</td><td>5.70058</td><td>5.88025</td><td>5.46561</td><td>5.40016</td><td>5.70585</td><td>5.89744</td><td>5.85964</td><td>5.74370</td><td>5.97921</td><td>5.45791</td><td>5.59953</td><td>5.57489</td><td>5.67623</td><td>5.36112</td><td>5.68307</td></tr>\n",
       "\t<tr><th scope=row>3</th><td> OR4F4     </td><td>4.22012</td><td>4.70004</td><td>4.16694</td><td>4.29442</td><td>4.23937</td><td>4.26177</td><td>4.44598</td><td>3.89638</td><td>4.13304</td><td>4.54395</td><td>4.31386</td><td>4.18171</td><td>4.49276</td><td>3.94544</td><td>4.59157</td><td>4.21806</td><td>5.10309</td><td>4.19518</td></tr>\n",
       "\t<tr><th scope=row>4</th><td> LOC728323 </td><td>9.17712</td><td>9.23920</td><td>9.04600</td><td>9.05245</td><td>9.40533</td><td>9.73973</td><td>8.86919</td><td>9.33503</td><td>9.33948</td><td>9.26910</td><td>9.17750</td><td>9.16691</td><td>9.37063</td><td>9.21811</td><td>9.23594</td><td>9.66123</td><td>9.09848</td><td>9.19735</td></tr>\n",
       "\t<tr><th scope=row>5</th><td> OR4F29    </td><td>5.23201</td><td>5.26065</td><td>4.62539</td><td>5.27837</td><td>4.85971</td><td>5.41090</td><td>5.34409</td><td>4.71479</td><td>5.27633</td><td>4.75232</td><td>4.98828</td><td>4.88814</td><td>5.04073</td><td>5.12542</td><td>4.93100</td><td>5.08791</td><td>5.23171</td><td>4.92252</td></tr>\n",
       "\t<tr><th scope=row>6</th><td> MT-TM     </td><td>4.14614</td><td>3.80165</td><td>3.85133</td><td>3.90198</td><td>3.96003</td><td>4.15932</td><td>3.76416</td><td>3.72104</td><td>3.50456</td><td>3.94329</td><td>4.17497</td><td>4.34645</td><td>3.97638</td><td>3.95167</td><td>4.18404</td><td>3.84538</td><td>4.08420</td><td>4.24203</td></tr>\n",
       "</tbody>\n",
       "</table>\n"
      ],
      "text/latex": [
       "A data.frame: 6 × 19\n",
       "\\begin{tabular}{r|lllllllllllllllllll}\n",
       "  & mapping\\$gene\\_assignment & GSM1376737 & GSM1376738 & GSM1376739 & GSM1376740 & GSM1376741 & GSM1376742 & GSM1376743 & GSM1376744 & GSM1376745 & GSM1376746 & GSM1376747 & GSM1376748 & GSM1376749 & GSM1376750 & GSM1376751 & GSM1376752 & GSM1376753 & GSM1376754\\\\\n",
       "  & <chr> & <dbl> & <dbl> & <dbl> & <dbl> & <dbl> & <dbl> & <dbl> & <dbl> & <dbl> & <dbl> & <dbl> & <dbl> & <dbl> & <dbl> & <dbl> & <dbl> & <dbl> & <dbl>\\\\\n",
       "\\hline\n",
       "\t1 & NA          & 6.46686 & 5.80707 & 6.18706 & 6.12905 & 6.00000 & 6.38717 & 5.87161 & 5.55011 & 5.43289 & 4.87511 & 6.71900 & 6.36994 & 5.99168 & 6.05723 & 6.29622 & 6.07141 & 5.58017 & 6.58692\\\\\n",
       "\t2 &  OR4G2P     & 6.23867 & 5.45787 & 5.54593 & 5.70058 & 5.88025 & 5.46561 & 5.40016 & 5.70585 & 5.89744 & 5.85964 & 5.74370 & 5.97921 & 5.45791 & 5.59953 & 5.57489 & 5.67623 & 5.36112 & 5.68307\\\\\n",
       "\t3 &  OR4F4      & 4.22012 & 4.70004 & 4.16694 & 4.29442 & 4.23937 & 4.26177 & 4.44598 & 3.89638 & 4.13304 & 4.54395 & 4.31386 & 4.18171 & 4.49276 & 3.94544 & 4.59157 & 4.21806 & 5.10309 & 4.19518\\\\\n",
       "\t4 &  LOC728323  & 9.17712 & 9.23920 & 9.04600 & 9.05245 & 9.40533 & 9.73973 & 8.86919 & 9.33503 & 9.33948 & 9.26910 & 9.17750 & 9.16691 & 9.37063 & 9.21811 & 9.23594 & 9.66123 & 9.09848 & 9.19735\\\\\n",
       "\t5 &  OR4F29     & 5.23201 & 5.26065 & 4.62539 & 5.27837 & 4.85971 & 5.41090 & 5.34409 & 4.71479 & 5.27633 & 4.75232 & 4.98828 & 4.88814 & 5.04073 & 5.12542 & 4.93100 & 5.08791 & 5.23171 & 4.92252\\\\\n",
       "\t6 &  MT-TM      & 4.14614 & 3.80165 & 3.85133 & 3.90198 & 3.96003 & 4.15932 & 3.76416 & 3.72104 & 3.50456 & 3.94329 & 4.17497 & 4.34645 & 3.97638 & 3.95167 & 4.18404 & 3.84538 & 4.08420 & 4.24203\\\\\n",
       "\\end{tabular}\n"
      ],
      "text/markdown": [
       "\n",
       "A data.frame: 6 × 19\n",
       "\n",
       "| <!--/--> | mapping$gene_assignment &lt;chr&gt; | GSM1376737 &lt;dbl&gt; | GSM1376738 &lt;dbl&gt; | GSM1376739 &lt;dbl&gt; | GSM1376740 &lt;dbl&gt; | GSM1376741 &lt;dbl&gt; | GSM1376742 &lt;dbl&gt; | GSM1376743 &lt;dbl&gt; | GSM1376744 &lt;dbl&gt; | GSM1376745 &lt;dbl&gt; | GSM1376746 &lt;dbl&gt; | GSM1376747 &lt;dbl&gt; | GSM1376748 &lt;dbl&gt; | GSM1376749 &lt;dbl&gt; | GSM1376750 &lt;dbl&gt; | GSM1376751 &lt;dbl&gt; | GSM1376752 &lt;dbl&gt; | GSM1376753 &lt;dbl&gt; | GSM1376754 &lt;dbl&gt; |\n",
       "|---|---|---|---|---|---|---|---|---|---|---|---|---|---|---|---|---|---|---|---|\n",
       "| 1 | NA          | 6.46686 | 5.80707 | 6.18706 | 6.12905 | 6.00000 | 6.38717 | 5.87161 | 5.55011 | 5.43289 | 4.87511 | 6.71900 | 6.36994 | 5.99168 | 6.05723 | 6.29622 | 6.07141 | 5.58017 | 6.58692 |\n",
       "| 2 |  OR4G2P     | 6.23867 | 5.45787 | 5.54593 | 5.70058 | 5.88025 | 5.46561 | 5.40016 | 5.70585 | 5.89744 | 5.85964 | 5.74370 | 5.97921 | 5.45791 | 5.59953 | 5.57489 | 5.67623 | 5.36112 | 5.68307 |\n",
       "| 3 |  OR4F4      | 4.22012 | 4.70004 | 4.16694 | 4.29442 | 4.23937 | 4.26177 | 4.44598 | 3.89638 | 4.13304 | 4.54395 | 4.31386 | 4.18171 | 4.49276 | 3.94544 | 4.59157 | 4.21806 | 5.10309 | 4.19518 |\n",
       "| 4 |  LOC728323  | 9.17712 | 9.23920 | 9.04600 | 9.05245 | 9.40533 | 9.73973 | 8.86919 | 9.33503 | 9.33948 | 9.26910 | 9.17750 | 9.16691 | 9.37063 | 9.21811 | 9.23594 | 9.66123 | 9.09848 | 9.19735 |\n",
       "| 5 |  OR4F29     | 5.23201 | 5.26065 | 4.62539 | 5.27837 | 4.85971 | 5.41090 | 5.34409 | 4.71479 | 5.27633 | 4.75232 | 4.98828 | 4.88814 | 5.04073 | 5.12542 | 4.93100 | 5.08791 | 5.23171 | 4.92252 |\n",
       "| 6 |  MT-TM      | 4.14614 | 3.80165 | 3.85133 | 3.90198 | 3.96003 | 4.15932 | 3.76416 | 3.72104 | 3.50456 | 3.94329 | 4.17497 | 4.34645 | 3.97638 | 3.95167 | 4.18404 | 3.84538 | 4.08420 | 4.24203 |\n",
       "\n"
      ],
      "text/plain": [
       "  mapping$gene_assignment GSM1376737 GSM1376738 GSM1376739 GSM1376740\n",
       "1 NA                      6.46686    5.80707    6.18706    6.12905   \n",
       "2  OR4G2P                 6.23867    5.45787    5.54593    5.70058   \n",
       "3  OR4F4                  4.22012    4.70004    4.16694    4.29442   \n",
       "4  LOC728323              9.17712    9.23920    9.04600    9.05245   \n",
       "5  OR4F29                 5.23201    5.26065    4.62539    5.27837   \n",
       "6  MT-TM                  4.14614    3.80165    3.85133    3.90198   \n",
       "  GSM1376741 GSM1376742 GSM1376743 GSM1376744 GSM1376745 GSM1376746 GSM1376747\n",
       "1 6.00000    6.38717    5.87161    5.55011    5.43289    4.87511    6.71900   \n",
       "2 5.88025    5.46561    5.40016    5.70585    5.89744    5.85964    5.74370   \n",
       "3 4.23937    4.26177    4.44598    3.89638    4.13304    4.54395    4.31386   \n",
       "4 9.40533    9.73973    8.86919    9.33503    9.33948    9.26910    9.17750   \n",
       "5 4.85971    5.41090    5.34409    4.71479    5.27633    4.75232    4.98828   \n",
       "6 3.96003    4.15932    3.76416    3.72104    3.50456    3.94329    4.17497   \n",
       "  GSM1376748 GSM1376749 GSM1376750 GSM1376751 GSM1376752 GSM1376753 GSM1376754\n",
       "1 6.36994    5.99168    6.05723    6.29622    6.07141    5.58017    6.58692   \n",
       "2 5.97921    5.45791    5.59953    5.57489    5.67623    5.36112    5.68307   \n",
       "3 4.18171    4.49276    3.94544    4.59157    4.21806    5.10309    4.19518   \n",
       "4 9.16691    9.37063    9.21811    9.23594    9.66123    9.09848    9.19735   \n",
       "5 4.88814    5.04073    5.12542    4.93100    5.08791    5.23171    4.92252   \n",
       "6 4.34645    3.97638    3.95167    4.18404    3.84538    4.08420    4.24203   "
      ]
     },
     "metadata": {},
     "output_type": "display_data"
    }
   ],
   "source": [
    "counts <- left_join(mapping, exprSet, by = \"RowIndex\") %>% dplyr::select(-RowIndex)\n",
    "head(counts)"
   ]
  },
  {
   "cell_type": "code",
   "execution_count": 37,
   "metadata": {},
   "outputs": [
    {
     "name": "stderr",
     "output_type": "stream",
     "text": [
      "Warning message:\n",
      "“\u001b[1m\u001b[22mUsing `across()` in `filter()` was deprecated in dplyr 1.0.8.\n",
      "\u001b[36mℹ\u001b[39m Please use `if_any()` or `if_all()` instead.”\n"
     ]
    },
    {
     "data": {
      "text/html": [
       "<table class=\"dataframe\">\n",
       "<caption>A matrix: 6 × 18 of type dbl</caption>\n",
       "<thead>\n",
       "\t<tr><th></th><th scope=col>GSM1376737</th><th scope=col>GSM1376738</th><th scope=col>GSM1376739</th><th scope=col>GSM1376740</th><th scope=col>GSM1376741</th><th scope=col>GSM1376742</th><th scope=col>GSM1376743</th><th scope=col>GSM1376744</th><th scope=col>GSM1376745</th><th scope=col>GSM1376746</th><th scope=col>GSM1376747</th><th scope=col>GSM1376748</th><th scope=col>GSM1376749</th><th scope=col>GSM1376750</th><th scope=col>GSM1376751</th><th scope=col>GSM1376752</th><th scope=col>GSM1376753</th><th scope=col>GSM1376754</th></tr>\n",
       "</thead>\n",
       "<tbody>\n",
       "\t<tr><th scope=row> OR4G2P </th><td>6.23867</td><td>5.45787</td><td>5.54593</td><td>5.70058</td><td>5.88025</td><td>5.46561</td><td>5.40016</td><td>5.70585</td><td>5.89744</td><td>5.85964</td><td>5.74370</td><td>5.97921</td><td>5.45791</td><td>5.59953</td><td>5.57489</td><td>5.67623</td><td>5.36112</td><td>5.68307</td></tr>\n",
       "\t<tr><th scope=row> OR4F4 </th><td>4.22012</td><td>4.70004</td><td>4.16694</td><td>4.29442</td><td>4.23937</td><td>4.26177</td><td>4.44598</td><td>3.89638</td><td>4.13304</td><td>4.54395</td><td>4.31386</td><td>4.18171</td><td>4.49276</td><td>3.94544</td><td>4.59157</td><td>4.21806</td><td>5.10309</td><td>4.19518</td></tr>\n",
       "\t<tr><th scope=row> LOC728323 </th><td>9.17712</td><td>9.23920</td><td>9.04600</td><td>9.05245</td><td>9.40533</td><td>9.73973</td><td>8.86919</td><td>9.33503</td><td>9.33948</td><td>9.26910</td><td>9.17750</td><td>9.16691</td><td>9.37063</td><td>9.21811</td><td>9.23594</td><td>9.66123</td><td>9.09848</td><td>9.19735</td></tr>\n",
       "\t<tr><th scope=row> OR4F29 </th><td>5.23201</td><td>5.26065</td><td>4.62539</td><td>5.27837</td><td>4.85971</td><td>5.41090</td><td>5.34409</td><td>4.71479</td><td>5.27633</td><td>4.75232</td><td>4.98828</td><td>4.88814</td><td>5.04073</td><td>5.12542</td><td>4.93100</td><td>5.08791</td><td>5.23171</td><td>4.92252</td></tr>\n",
       "\t<tr><th scope=row> MT-TM </th><td>4.14614</td><td>3.80165</td><td>3.85133</td><td>3.90198</td><td>3.96003</td><td>4.15932</td><td>3.76416</td><td>3.72104</td><td>3.50456</td><td>3.94329</td><td>4.17497</td><td>4.34645</td><td>3.97638</td><td>3.95167</td><td>4.18404</td><td>3.84538</td><td>4.08420</td><td>4.24203</td></tr>\n",
       "\t<tr><th scope=row> MT-TW </th><td>3.88923</td><td>3.59382</td><td>3.87791</td><td>3.91643</td><td>3.78855</td><td>4.10493</td><td>3.82294</td><td>3.78729</td><td>3.79082</td><td>4.09415</td><td>3.82409</td><td>3.86177</td><td>3.85706</td><td>4.00643</td><td>3.76557</td><td>3.93265</td><td>3.96878</td><td>3.90526</td></tr>\n",
       "</tbody>\n",
       "</table>\n"
      ],
      "text/latex": [
       "A matrix: 6 × 18 of type dbl\n",
       "\\begin{tabular}{r|llllllllllllllllll}\n",
       "  & GSM1376737 & GSM1376738 & GSM1376739 & GSM1376740 & GSM1376741 & GSM1376742 & GSM1376743 & GSM1376744 & GSM1376745 & GSM1376746 & GSM1376747 & GSM1376748 & GSM1376749 & GSM1376750 & GSM1376751 & GSM1376752 & GSM1376753 & GSM1376754\\\\\n",
       "\\hline\n",
       "\t OR4G2P  & 6.23867 & 5.45787 & 5.54593 & 5.70058 & 5.88025 & 5.46561 & 5.40016 & 5.70585 & 5.89744 & 5.85964 & 5.74370 & 5.97921 & 5.45791 & 5.59953 & 5.57489 & 5.67623 & 5.36112 & 5.68307\\\\\n",
       "\t OR4F4  & 4.22012 & 4.70004 & 4.16694 & 4.29442 & 4.23937 & 4.26177 & 4.44598 & 3.89638 & 4.13304 & 4.54395 & 4.31386 & 4.18171 & 4.49276 & 3.94544 & 4.59157 & 4.21806 & 5.10309 & 4.19518\\\\\n",
       "\t LOC728323  & 9.17712 & 9.23920 & 9.04600 & 9.05245 & 9.40533 & 9.73973 & 8.86919 & 9.33503 & 9.33948 & 9.26910 & 9.17750 & 9.16691 & 9.37063 & 9.21811 & 9.23594 & 9.66123 & 9.09848 & 9.19735\\\\\n",
       "\t OR4F29  & 5.23201 & 5.26065 & 4.62539 & 5.27837 & 4.85971 & 5.41090 & 5.34409 & 4.71479 & 5.27633 & 4.75232 & 4.98828 & 4.88814 & 5.04073 & 5.12542 & 4.93100 & 5.08791 & 5.23171 & 4.92252\\\\\n",
       "\t MT-TM  & 4.14614 & 3.80165 & 3.85133 & 3.90198 & 3.96003 & 4.15932 & 3.76416 & 3.72104 & 3.50456 & 3.94329 & 4.17497 & 4.34645 & 3.97638 & 3.95167 & 4.18404 & 3.84538 & 4.08420 & 4.24203\\\\\n",
       "\t MT-TW  & 3.88923 & 3.59382 & 3.87791 & 3.91643 & 3.78855 & 4.10493 & 3.82294 & 3.78729 & 3.79082 & 4.09415 & 3.82409 & 3.86177 & 3.85706 & 4.00643 & 3.76557 & 3.93265 & 3.96878 & 3.90526\\\\\n",
       "\\end{tabular}\n"
      ],
      "text/markdown": [
       "\n",
       "A matrix: 6 × 18 of type dbl\n",
       "\n",
       "| <!--/--> | GSM1376737 | GSM1376738 | GSM1376739 | GSM1376740 | GSM1376741 | GSM1376742 | GSM1376743 | GSM1376744 | GSM1376745 | GSM1376746 | GSM1376747 | GSM1376748 | GSM1376749 | GSM1376750 | GSM1376751 | GSM1376752 | GSM1376753 | GSM1376754 |\n",
       "|---|---|---|---|---|---|---|---|---|---|---|---|---|---|---|---|---|---|---|\n",
       "|  OR4G2P  | 6.23867 | 5.45787 | 5.54593 | 5.70058 | 5.88025 | 5.46561 | 5.40016 | 5.70585 | 5.89744 | 5.85964 | 5.74370 | 5.97921 | 5.45791 | 5.59953 | 5.57489 | 5.67623 | 5.36112 | 5.68307 |\n",
       "|  OR4F4  | 4.22012 | 4.70004 | 4.16694 | 4.29442 | 4.23937 | 4.26177 | 4.44598 | 3.89638 | 4.13304 | 4.54395 | 4.31386 | 4.18171 | 4.49276 | 3.94544 | 4.59157 | 4.21806 | 5.10309 | 4.19518 |\n",
       "|  LOC728323  | 9.17712 | 9.23920 | 9.04600 | 9.05245 | 9.40533 | 9.73973 | 8.86919 | 9.33503 | 9.33948 | 9.26910 | 9.17750 | 9.16691 | 9.37063 | 9.21811 | 9.23594 | 9.66123 | 9.09848 | 9.19735 |\n",
       "|  OR4F29  | 5.23201 | 5.26065 | 4.62539 | 5.27837 | 4.85971 | 5.41090 | 5.34409 | 4.71479 | 5.27633 | 4.75232 | 4.98828 | 4.88814 | 5.04073 | 5.12542 | 4.93100 | 5.08791 | 5.23171 | 4.92252 |\n",
       "|  MT-TM  | 4.14614 | 3.80165 | 3.85133 | 3.90198 | 3.96003 | 4.15932 | 3.76416 | 3.72104 | 3.50456 | 3.94329 | 4.17497 | 4.34645 | 3.97638 | 3.95167 | 4.18404 | 3.84538 | 4.08420 | 4.24203 |\n",
       "|  MT-TW  | 3.88923 | 3.59382 | 3.87791 | 3.91643 | 3.78855 | 4.10493 | 3.82294 | 3.78729 | 3.79082 | 4.09415 | 3.82409 | 3.86177 | 3.85706 | 4.00643 | 3.76557 | 3.93265 | 3.96878 | 3.90526 |\n",
       "\n"
      ],
      "text/plain": [
       "            GSM1376737 GSM1376738 GSM1376739 GSM1376740 GSM1376741 GSM1376742\n",
       " OR4G2P     6.23867    5.45787    5.54593    5.70058    5.88025    5.46561   \n",
       " OR4F4      4.22012    4.70004    4.16694    4.29442    4.23937    4.26177   \n",
       " LOC728323  9.17712    9.23920    9.04600    9.05245    9.40533    9.73973   \n",
       " OR4F29     5.23201    5.26065    4.62539    5.27837    4.85971    5.41090   \n",
       " MT-TM      4.14614    3.80165    3.85133    3.90198    3.96003    4.15932   \n",
       " MT-TW      3.88923    3.59382    3.87791    3.91643    3.78855    4.10493   \n",
       "            GSM1376743 GSM1376744 GSM1376745 GSM1376746 GSM1376747 GSM1376748\n",
       " OR4G2P     5.40016    5.70585    5.89744    5.85964    5.74370    5.97921   \n",
       " OR4F4      4.44598    3.89638    4.13304    4.54395    4.31386    4.18171   \n",
       " LOC728323  8.86919    9.33503    9.33948    9.26910    9.17750    9.16691   \n",
       " OR4F29     5.34409    4.71479    5.27633    4.75232    4.98828    4.88814   \n",
       " MT-TM      3.76416    3.72104    3.50456    3.94329    4.17497    4.34645   \n",
       " MT-TW      3.82294    3.78729    3.79082    4.09415    3.82409    3.86177   \n",
       "            GSM1376749 GSM1376750 GSM1376751 GSM1376752 GSM1376753 GSM1376754\n",
       " OR4G2P     5.45791    5.59953    5.57489    5.67623    5.36112    5.68307   \n",
       " OR4F4      4.49276    3.94544    4.59157    4.21806    5.10309    4.19518   \n",
       " LOC728323  9.37063    9.21811    9.23594    9.66123    9.09848    9.19735   \n",
       " OR4F29     5.04073    5.12542    4.93100    5.08791    5.23171    4.92252   \n",
       " MT-TM      3.97638    3.95167    4.18404    3.84538    4.08420    4.24203   \n",
       " MT-TW      3.85706    4.00643    3.76557    3.93265    3.96878    3.90526   "
      ]
     },
     "metadata": {},
     "output_type": "display_data"
    }
   ],
   "source": [
    "counts <- left_join(mapping, exprSet, by = \"RowIndex\") %>% \n",
    "  dplyr::select(-RowIndex)%>%\n",
    "  filter(`mapping$gene_assignment` != \"\")%>%\n",
    "  filter(across(everything(), ~ !str_detect(., \"^NA$\")))\n",
    "\n",
    "rownames(counts) <- make.unique(counts$`mapping$gene_assignment`)\n",
    "\n",
    "counts <- counts %>%\n",
    " dplyr::select(-`mapping$gene_assignment`) %>%\n",
    " as.matrix()\n",
    "head(counts)"
   ]
  },
  {
   "cell_type": "code",
   "execution_count": 38,
   "metadata": {
    "vscode": {
     "languageId": "r"
    }
   },
   "outputs": [
    {
     "data": {
      "text/html": [
       "<table class=\"dataframe\">\n",
       "<caption>A data.frame: 18 × 3</caption>\n",
       "<thead>\n",
       "\t<tr><th scope=col>Sample</th><th scope=col>Donor</th><th scope=col>Stim</th></tr>\n",
       "\t<tr><th scope=col>&lt;chr&gt;</th><th scope=col>&lt;chr&gt;</th><th scope=col>&lt;chr&gt;</th></tr>\n",
       "</thead>\n",
       "<tbody>\n",
       "\t<tr><td>GSM1376737</td><td>Patient 1</td><td>lesion </td></tr>\n",
       "\t<tr><td>GSM1376738</td><td>Patient 1</td><td>control</td></tr>\n",
       "\t<tr><td>GSM1376739</td><td>Patient 2</td><td>lesion </td></tr>\n",
       "\t<tr><td>GSM1376740</td><td>Patient 2</td><td>control</td></tr>\n",
       "\t<tr><td>GSM1376741</td><td>Patient 3</td><td>lesion </td></tr>\n",
       "\t<tr><td>GSM1376742</td><td>Patient 3</td><td>control</td></tr>\n",
       "\t<tr><td>GSM1376743</td><td>Patient 4</td><td>lesion </td></tr>\n",
       "\t<tr><td>GSM1376744</td><td>Patient 4</td><td>control</td></tr>\n",
       "\t<tr><td>GSM1376745</td><td>Patient 6</td><td>lesion </td></tr>\n",
       "\t<tr><td>GSM1376746</td><td>Patient 6</td><td>control</td></tr>\n",
       "\t<tr><td>GSM1376747</td><td>Patient 7</td><td>lesion </td></tr>\n",
       "\t<tr><td>GSM1376748</td><td>Patient 7</td><td>control</td></tr>\n",
       "\t<tr><td>GSM1376749</td><td>Patient 8</td><td>control</td></tr>\n",
       "\t<tr><td>GSM1376750</td><td>Normal 11</td><td>control</td></tr>\n",
       "\t<tr><td>GSM1376751</td><td>Normal 12</td><td>control</td></tr>\n",
       "\t<tr><td>GSM1376752</td><td>Normal 13</td><td>control</td></tr>\n",
       "\t<tr><td>GSM1376753</td><td>Normal 14</td><td>control</td></tr>\n",
       "\t<tr><td>GSM1376754</td><td>Normal 15</td><td>control</td></tr>\n",
       "</tbody>\n",
       "</table>\n"
      ],
      "text/latex": [
       "A data.frame: 18 × 3\n",
       "\\begin{tabular}{lll}\n",
       " Sample & Donor & Stim\\\\\n",
       " <chr> & <chr> & <chr>\\\\\n",
       "\\hline\n",
       "\t GSM1376737 & Patient 1 & lesion \\\\\n",
       "\t GSM1376738 & Patient 1 & control\\\\\n",
       "\t GSM1376739 & Patient 2 & lesion \\\\\n",
       "\t GSM1376740 & Patient 2 & control\\\\\n",
       "\t GSM1376741 & Patient 3 & lesion \\\\\n",
       "\t GSM1376742 & Patient 3 & control\\\\\n",
       "\t GSM1376743 & Patient 4 & lesion \\\\\n",
       "\t GSM1376744 & Patient 4 & control\\\\\n",
       "\t GSM1376745 & Patient 6 & lesion \\\\\n",
       "\t GSM1376746 & Patient 6 & control\\\\\n",
       "\t GSM1376747 & Patient 7 & lesion \\\\\n",
       "\t GSM1376748 & Patient 7 & control\\\\\n",
       "\t GSM1376749 & Patient 8 & control\\\\\n",
       "\t GSM1376750 & Normal 11 & control\\\\\n",
       "\t GSM1376751 & Normal 12 & control\\\\\n",
       "\t GSM1376752 & Normal 13 & control\\\\\n",
       "\t GSM1376753 & Normal 14 & control\\\\\n",
       "\t GSM1376754 & Normal 15 & control\\\\\n",
       "\\end{tabular}\n"
      ],
      "text/markdown": [
       "\n",
       "A data.frame: 18 × 3\n",
       "\n",
       "| Sample &lt;chr&gt; | Donor &lt;chr&gt; | Stim &lt;chr&gt; |\n",
       "|---|---|---|\n",
       "| GSM1376737 | Patient 1 | lesion  |\n",
       "| GSM1376738 | Patient 1 | control |\n",
       "| GSM1376739 | Patient 2 | lesion  |\n",
       "| GSM1376740 | Patient 2 | control |\n",
       "| GSM1376741 | Patient 3 | lesion  |\n",
       "| GSM1376742 | Patient 3 | control |\n",
       "| GSM1376743 | Patient 4 | lesion  |\n",
       "| GSM1376744 | Patient 4 | control |\n",
       "| GSM1376745 | Patient 6 | lesion  |\n",
       "| GSM1376746 | Patient 6 | control |\n",
       "| GSM1376747 | Patient 7 | lesion  |\n",
       "| GSM1376748 | Patient 7 | control |\n",
       "| GSM1376749 | Patient 8 | control |\n",
       "| GSM1376750 | Normal 11 | control |\n",
       "| GSM1376751 | Normal 12 | control |\n",
       "| GSM1376752 | Normal 13 | control |\n",
       "| GSM1376753 | Normal 14 | control |\n",
       "| GSM1376754 | Normal 15 | control |\n",
       "\n"
      ],
      "text/plain": [
       "   Sample     Donor     Stim   \n",
       "1  GSM1376737 Patient 1 lesion \n",
       "2  GSM1376738 Patient 1 control\n",
       "3  GSM1376739 Patient 2 lesion \n",
       "4  GSM1376740 Patient 2 control\n",
       "5  GSM1376741 Patient 3 lesion \n",
       "6  GSM1376742 Patient 3 control\n",
       "7  GSM1376743 Patient 4 lesion \n",
       "8  GSM1376744 Patient 4 control\n",
       "9  GSM1376745 Patient 6 lesion \n",
       "10 GSM1376746 Patient 6 control\n",
       "11 GSM1376747 Patient 7 lesion \n",
       "12 GSM1376748 Patient 7 control\n",
       "13 GSM1376749 Patient 8 control\n",
       "14 GSM1376750 Normal 11 control\n",
       "15 GSM1376751 Normal 12 control\n",
       "16 GSM1376752 Normal 13 control\n",
       "17 GSM1376753 Normal 14 control\n",
       "18 GSM1376754 Normal 15 control"
      ]
     },
     "metadata": {},
     "output_type": "display_data"
    }
   ],
   "source": [
    "# Clean up metadata\n",
    "pdata <- pData(phenoData(gse[[1]]))\n",
    "pdata <- pdata%>%\n",
    "    dplyr::select(title) %>%\n",
    "  separate(title, into = c(\"Donor\", \"Stim\"), sep = \", \") %>%\n",
    "  mutate(\n",
    "    Donor = trimws(Donor),\n",
    "    Stim = gsub(\"tissue\", \"\", Stim), \n",
    "    Stim = trimws(Stim)\n",
    "  )\n",
    "pdata$Sample <- rownames(pdata)\n",
    "rownames(pdata) <- NULL\n",
    "pdata <- pdata %>% dplyr::select(Sample, Donor, Stim)\n",
    "pdata"
   ]
  },
  {
   "cell_type": "markdown",
   "metadata": {},
   "source": [
    "## Normalize Data"
   ]
  },
  {
   "cell_type": "code",
   "execution_count": 40,
   "metadata": {
    "vscode": {
     "languageId": "r"
    }
   },
   "outputs": [
    {
     "data": {
      "text/html": [
       "<style>\n",
       ".list-inline {list-style: none; margin:0; padding: 0}\n",
       ".list-inline>li {display: inline-block}\n",
       ".list-inline>li:not(:last-child)::after {content: \"\\00b7\"; padding: 0 .5ex}\n",
       "</style>\n",
       "<ol class=list-inline><li>25293</li><li>18</li></ol>\n"
      ],
      "text/latex": [
       "\\begin{enumerate*}\n",
       "\\item 25293\n",
       "\\item 18\n",
       "\\end{enumerate*}\n"
      ],
      "text/markdown": [
       "1. 25293\n",
       "2. 18\n",
       "\n",
       "\n"
      ],
      "text/plain": [
       "[1] 25293    18"
      ]
     },
     "metadata": {},
     "output_type": "display_data"
    }
   ],
   "source": [
    "dgeFull1 = DGEList(counts = counts, group = pdata$Stim)\n",
    "dim(dgeFull1)"
   ]
  },
  {
   "cell_type": "code",
   "execution_count": 41,
   "metadata": {
    "vscode": {
     "languageId": "r"
    }
   },
   "outputs": [
    {
     "data": {
      "text/html": [
       "<table class=\"dataframe\">\n",
       "<caption>A data.frame: 6 × 3</caption>\n",
       "<thead>\n",
       "\t<tr><th></th><th scope=col>group</th><th scope=col>lib.size</th><th scope=col>norm.factors</th></tr>\n",
       "\t<tr><th></th><th scope=col>&lt;fct&gt;</th><th scope=col>&lt;dbl&gt;</th><th scope=col>&lt;dbl&gt;</th></tr>\n",
       "</thead>\n",
       "<tbody>\n",
       "\t<tr><th scope=row>GSM1376737</th><td>lesion </td><td>136139.6</td><td>0.9960712</td></tr>\n",
       "\t<tr><th scope=row>GSM1376738</th><td>control</td><td>135712.9</td><td>1.0008854</td></tr>\n",
       "\t<tr><th scope=row>GSM1376739</th><td>lesion </td><td>136227.4</td><td>1.0010957</td></tr>\n",
       "\t<tr><th scope=row>GSM1376740</th><td>control</td><td>135844.7</td><td>1.0010178</td></tr>\n",
       "\t<tr><th scope=row>GSM1376741</th><td>lesion </td><td>136394.8</td><td>0.9990042</td></tr>\n",
       "\t<tr><th scope=row>GSM1376742</th><td>control</td><td>135539.9</td><td>1.0026070</td></tr>\n",
       "</tbody>\n",
       "</table>\n"
      ],
      "text/latex": [
       "A data.frame: 6 × 3\n",
       "\\begin{tabular}{r|lll}\n",
       "  & group & lib.size & norm.factors\\\\\n",
       "  & <fct> & <dbl> & <dbl>\\\\\n",
       "\\hline\n",
       "\tGSM1376737 & lesion  & 136139.6 & 0.9960712\\\\\n",
       "\tGSM1376738 & control & 135712.9 & 1.0008854\\\\\n",
       "\tGSM1376739 & lesion  & 136227.4 & 1.0010957\\\\\n",
       "\tGSM1376740 & control & 135844.7 & 1.0010178\\\\\n",
       "\tGSM1376741 & lesion  & 136394.8 & 0.9990042\\\\\n",
       "\tGSM1376742 & control & 135539.9 & 1.0026070\\\\\n",
       "\\end{tabular}\n"
      ],
      "text/markdown": [
       "\n",
       "A data.frame: 6 × 3\n",
       "\n",
       "| <!--/--> | group &lt;fct&gt; | lib.size &lt;dbl&gt; | norm.factors &lt;dbl&gt; |\n",
       "|---|---|---|---|\n",
       "| GSM1376737 | lesion  | 136139.6 | 0.9960712 |\n",
       "| GSM1376738 | control | 135712.9 | 1.0008854 |\n",
       "| GSM1376739 | lesion  | 136227.4 | 1.0010957 |\n",
       "| GSM1376740 | control | 135844.7 | 1.0010178 |\n",
       "| GSM1376741 | lesion  | 136394.8 | 0.9990042 |\n",
       "| GSM1376742 | control | 135539.9 | 1.0026070 |\n",
       "\n"
      ],
      "text/plain": [
       "           group   lib.size norm.factors\n",
       "GSM1376737 lesion  136139.6 0.9960712   \n",
       "GSM1376738 control 135712.9 1.0008854   \n",
       "GSM1376739 lesion  136227.4 1.0010957   \n",
       "GSM1376740 control 135844.7 1.0010178   \n",
       "GSM1376741 lesion  136394.8 0.9990042   \n",
       "GSM1376742 control 135539.9 1.0026070   "
      ]
     },
     "metadata": {},
     "output_type": "display_data"
    }
   ],
   "source": [
    "dgeFull1 <- calcNormFactors(dgeFull1, method=\"TMM\")\n",
    "head(dgeFull1$samples)"
   ]
  },
  {
   "cell_type": "code",
   "execution_count": 42,
   "metadata": {
    "vscode": {
     "languageId": "r"
    }
   },
   "outputs": [
    {
     "data": {
      "text/html": [
       "<table class=\"dataframe\">\n",
       "<caption>A matrix: 6 × 18 of type dbl</caption>\n",
       "<thead>\n",
       "\t<tr><th></th><th scope=col>GSM1376737</th><th scope=col>GSM1376738</th><th scope=col>GSM1376739</th><th scope=col>GSM1376740</th><th scope=col>GSM1376741</th><th scope=col>GSM1376742</th><th scope=col>GSM1376743</th><th scope=col>GSM1376744</th><th scope=col>GSM1376745</th><th scope=col>GSM1376746</th><th scope=col>GSM1376747</th><th scope=col>GSM1376748</th><th scope=col>GSM1376749</th><th scope=col>GSM1376750</th><th scope=col>GSM1376751</th><th scope=col>GSM1376752</th><th scope=col>GSM1376753</th><th scope=col>GSM1376754</th></tr>\n",
       "</thead>\n",
       "<tbody>\n",
       "\t<tr><th scope=row> OR4G2P </th><td>46.00627</td><td>40.18072</td><td>40.66628</td><td>41.92128</td><td>43.15497</td><td>40.21988</td><td>39.72931</td><td>41.90795</td><td>43.38821</td><td>42.94477</td><td>42.20490</td><td>44.03186</td><td>40.15897</td><td>41.17070</td><td>40.95255</td><td>41.83508</td><td>39.23936</td><td>41.74890</td></tr>\n",
       "\t<tr><th scope=row> OR4F4 </th><td>31.12073</td><td>34.60159</td><td>30.55465</td><td>31.58058</td><td>31.11260</td><td>31.36116</td><td>32.70935</td><td>28.61787</td><td>30.40730</td><td>33.30220</td><td>31.69839</td><td>30.79478</td><td>33.05745</td><td>29.00896</td><td>33.72919</td><td>31.08804</td><td>37.35077</td><td>30.81858</td></tr>\n",
       "\t<tr><th scope=row> LOC728323 </th><td>67.67550</td><td>68.01879</td><td>66.33101</td><td>66.57048</td><td>69.02542</td><td>71.67192</td><td>65.25118</td><td>68.56331</td><td>68.71173</td><td>67.93239</td><td>67.43659</td><td>67.50659</td><td>68.94852</td><td>67.77641</td><td>67.84624</td><td>71.20542</td><td>66.59402</td><td>67.56546</td></tr>\n",
       "\t<tr><th scope=row> OR4F29 </th><td>38.58279</td><td>38.72879</td><td>33.91629</td><td>38.81641</td><td>35.66526</td><td>39.81728</td><td>39.31680</td><td>34.62887</td><td>38.81862</td><td>34.82932</td><td>36.65405</td><td>35.99704</td><td>37.08938</td><td>37.68479</td><td>36.22260</td><td>37.49903</td><td>38.29217</td><td>36.16176</td></tr>\n",
       "\t<tr><th scope=row> MT-TM </th><td>30.57518</td><td>27.98766</td><td>28.24039</td><td>28.69463</td><td>29.06254</td><td>30.60726</td><td>27.69316</td><td>27.33005</td><td>25.78349</td><td>28.90001</td><td>30.67782</td><td>32.00795</td><td>29.25796</td><td>29.05476</td><td>30.73552</td><td>28.34131</td><td>29.89327</td><td>31.16275</td></tr>\n",
       "\t<tr><th scope=row> MT-TW </th><td>28.68063</td><td>26.45762</td><td>28.43530</td><td>28.80089</td><td>27.80405</td><td>30.20702</td><td>28.12560</td><td>27.81663</td><td>27.88954</td><td>30.00565</td><td>28.09954</td><td>28.43869</td><td>28.38001</td><td>29.45739</td><td>27.66148</td><td>28.98451</td><td>29.04848</td><td>28.68877</td></tr>\n",
       "</tbody>\n",
       "</table>\n"
      ],
      "text/latex": [
       "A matrix: 6 × 18 of type dbl\n",
       "\\begin{tabular}{r|llllllllllllllllll}\n",
       "  & GSM1376737 & GSM1376738 & GSM1376739 & GSM1376740 & GSM1376741 & GSM1376742 & GSM1376743 & GSM1376744 & GSM1376745 & GSM1376746 & GSM1376747 & GSM1376748 & GSM1376749 & GSM1376750 & GSM1376751 & GSM1376752 & GSM1376753 & GSM1376754\\\\\n",
       "\\hline\n",
       "\t OR4G2P  & 46.00627 & 40.18072 & 40.66628 & 41.92128 & 43.15497 & 40.21988 & 39.72931 & 41.90795 & 43.38821 & 42.94477 & 42.20490 & 44.03186 & 40.15897 & 41.17070 & 40.95255 & 41.83508 & 39.23936 & 41.74890\\\\\n",
       "\t OR4F4  & 31.12073 & 34.60159 & 30.55465 & 31.58058 & 31.11260 & 31.36116 & 32.70935 & 28.61787 & 30.40730 & 33.30220 & 31.69839 & 30.79478 & 33.05745 & 29.00896 & 33.72919 & 31.08804 & 37.35077 & 30.81858\\\\\n",
       "\t LOC728323  & 67.67550 & 68.01879 & 66.33101 & 66.57048 & 69.02542 & 71.67192 & 65.25118 & 68.56331 & 68.71173 & 67.93239 & 67.43659 & 67.50659 & 68.94852 & 67.77641 & 67.84624 & 71.20542 & 66.59402 & 67.56546\\\\\n",
       "\t OR4F29  & 38.58279 & 38.72879 & 33.91629 & 38.81641 & 35.66526 & 39.81728 & 39.31680 & 34.62887 & 38.81862 & 34.82932 & 36.65405 & 35.99704 & 37.08938 & 37.68479 & 36.22260 & 37.49903 & 38.29217 & 36.16176\\\\\n",
       "\t MT-TM  & 30.57518 & 27.98766 & 28.24039 & 28.69463 & 29.06254 & 30.60726 & 27.69316 & 27.33005 & 25.78349 & 28.90001 & 30.67782 & 32.00795 & 29.25796 & 29.05476 & 30.73552 & 28.34131 & 29.89327 & 31.16275\\\\\n",
       "\t MT-TW  & 28.68063 & 26.45762 & 28.43530 & 28.80089 & 27.80405 & 30.20702 & 28.12560 & 27.81663 & 27.88954 & 30.00565 & 28.09954 & 28.43869 & 28.38001 & 29.45739 & 27.66148 & 28.98451 & 29.04848 & 28.68877\\\\\n",
       "\\end{tabular}\n"
      ],
      "text/markdown": [
       "\n",
       "A matrix: 6 × 18 of type dbl\n",
       "\n",
       "| <!--/--> | GSM1376737 | GSM1376738 | GSM1376739 | GSM1376740 | GSM1376741 | GSM1376742 | GSM1376743 | GSM1376744 | GSM1376745 | GSM1376746 | GSM1376747 | GSM1376748 | GSM1376749 | GSM1376750 | GSM1376751 | GSM1376752 | GSM1376753 | GSM1376754 |\n",
       "|---|---|---|---|---|---|---|---|---|---|---|---|---|---|---|---|---|---|---|\n",
       "|  OR4G2P  | 46.00627 | 40.18072 | 40.66628 | 41.92128 | 43.15497 | 40.21988 | 39.72931 | 41.90795 | 43.38821 | 42.94477 | 42.20490 | 44.03186 | 40.15897 | 41.17070 | 40.95255 | 41.83508 | 39.23936 | 41.74890 |\n",
       "|  OR4F4  | 31.12073 | 34.60159 | 30.55465 | 31.58058 | 31.11260 | 31.36116 | 32.70935 | 28.61787 | 30.40730 | 33.30220 | 31.69839 | 30.79478 | 33.05745 | 29.00896 | 33.72919 | 31.08804 | 37.35077 | 30.81858 |\n",
       "|  LOC728323  | 67.67550 | 68.01879 | 66.33101 | 66.57048 | 69.02542 | 71.67192 | 65.25118 | 68.56331 | 68.71173 | 67.93239 | 67.43659 | 67.50659 | 68.94852 | 67.77641 | 67.84624 | 71.20542 | 66.59402 | 67.56546 |\n",
       "|  OR4F29  | 38.58279 | 38.72879 | 33.91629 | 38.81641 | 35.66526 | 39.81728 | 39.31680 | 34.62887 | 38.81862 | 34.82932 | 36.65405 | 35.99704 | 37.08938 | 37.68479 | 36.22260 | 37.49903 | 38.29217 | 36.16176 |\n",
       "|  MT-TM  | 30.57518 | 27.98766 | 28.24039 | 28.69463 | 29.06254 | 30.60726 | 27.69316 | 27.33005 | 25.78349 | 28.90001 | 30.67782 | 32.00795 | 29.25796 | 29.05476 | 30.73552 | 28.34131 | 29.89327 | 31.16275 |\n",
       "|  MT-TW  | 28.68063 | 26.45762 | 28.43530 | 28.80089 | 27.80405 | 30.20702 | 28.12560 | 27.81663 | 27.88954 | 30.00565 | 28.09954 | 28.43869 | 28.38001 | 29.45739 | 27.66148 | 28.98451 | 29.04848 | 28.68877 |\n",
       "\n"
      ],
      "text/plain": [
       "            GSM1376737 GSM1376738 GSM1376739 GSM1376740 GSM1376741 GSM1376742\n",
       " OR4G2P     46.00627   40.18072   40.66628   41.92128   43.15497   40.21988  \n",
       " OR4F4      31.12073   34.60159   30.55465   31.58058   31.11260   31.36116  \n",
       " LOC728323  67.67550   68.01879   66.33101   66.57048   69.02542   71.67192  \n",
       " OR4F29     38.58279   38.72879   33.91629   38.81641   35.66526   39.81728  \n",
       " MT-TM      30.57518   27.98766   28.24039   28.69463   29.06254   30.60726  \n",
       " MT-TW      28.68063   26.45762   28.43530   28.80089   27.80405   30.20702  \n",
       "            GSM1376743 GSM1376744 GSM1376745 GSM1376746 GSM1376747 GSM1376748\n",
       " OR4G2P     39.72931   41.90795   43.38821   42.94477   42.20490   44.03186  \n",
       " OR4F4      32.70935   28.61787   30.40730   33.30220   31.69839   30.79478  \n",
       " LOC728323  65.25118   68.56331   68.71173   67.93239   67.43659   67.50659  \n",
       " OR4F29     39.31680   34.62887   38.81862   34.82932   36.65405   35.99704  \n",
       " MT-TM      27.69316   27.33005   25.78349   28.90001   30.67782   32.00795  \n",
       " MT-TW      28.12560   27.81663   27.88954   30.00565   28.09954   28.43869  \n",
       "            GSM1376749 GSM1376750 GSM1376751 GSM1376752 GSM1376753 GSM1376754\n",
       " OR4G2P     40.15897   41.17070   40.95255   41.83508   39.23936   41.74890  \n",
       " OR4F4      33.05745   29.00896   33.72919   31.08804   37.35077   30.81858  \n",
       " LOC728323  68.94852   67.77641   67.84624   71.20542   66.59402   67.56546  \n",
       " OR4F29     37.08938   37.68479   36.22260   37.49903   38.29217   36.16176  \n",
       " MT-TM      29.25796   29.05476   30.73552   28.34131   29.89327   31.16275  \n",
       " MT-TW      28.38001   29.45739   27.66148   28.98451   29.04848   28.68877  "
      ]
     },
     "metadata": {},
     "output_type": "display_data"
    }
   ],
   "source": [
    "eff.lib.size0 <-  dgeFull1$samples$lib.size*dgeFull1$samples$norm.factors\n",
    "analysis <- data.frame(cpm(dgeFull1))\n",
    "colnames(analysis) <- sub(pattern = \"^X\", replacement = \"\", colnames(analysis))\n",
    "analysis <-as.matrix(analysis)\n",
    "head(analysis)"
   ]
  },
  {
   "cell_type": "code",
   "execution_count": 43,
   "metadata": {
    "vscode": {
     "languageId": "r"
    }
   },
   "outputs": [
    {
     "data": {
      "image/png": "[encoded data removed]",
      "text/plain": [
       "plot without title"
      ]
     },
     "metadata": {
      "image/png": {
       "height": 420,
       "width": 420
      }
     },
     "output_type": "display_data"
    }
   ],
   "source": [
    "# Create a box plot\n",
    "counts_mat <- analysis\n",
    "box_plot <- ggplot(data = melt(counts_mat), aes(x = Var2, y = value)) +\n",
    "  geom_boxplot() +\n",
    "  labs(x = \"Samples\", y = \"Counts\") +\n",
    "  theme(axis.text.x = element_text(angle = 90, vjust = 0.5)) + # Rotate x-axis labels for better readability\n",
    "  ggtitle(\"Box Plot of Counts Matrix\")\n",
    "\n",
    "# Compute summary statistics\n",
    "summary_stats <- apply(counts_mat, 2, summary)\n",
    "formatted_summary <- t(round(summary_stats, 2))\n",
    "box_plot"
   ]
  },
  {
   "cell_type": "code",
   "execution_count": 44,
   "metadata": {
    "vscode": {
     "languageId": "r"
    }
   },
   "outputs": [],
   "source": [
    "dir.create(\"CSU_skin_MicroArray_GSE57178\", showWarnings = FALSE)\n",
    "saveRDS(analysis, file = file.path(\"CSU_skin_MicroArray_GSE57178\", \"expression.rds\"))\n",
    "saveRDS(pdata, file = file.path(\"CSU_skin_MicroArray_GSE57178\", \"metadata.rds\"))"
   ]
  },
  {
   "cell_type": "code",
   "execution_count": 45,
   "metadata": {
    "vscode": {
     "languageId": "r"
    }
   },
   "outputs": [],
   "source": [
    "system(\"R -e \\\"shiny::runApp('CSU_skin_MicroArray_GSE57178')\\\"\")"
   ]
  }
 ],
 "metadata": {
  "kernelspec": {
   "display_name": "R",
   "language": "R",
   "name": "ir"
  },
  "language_info": {
   "codemirror_mode": "r",
   "file_extension": ".r",
   "mimetype": "text/x-r-source",
   "name": "R",
   "pygments_lexer": "r",
   "version": "4.3.3"
  }
 },
 "nbformat": 4,
 "nbformat_minor": 4
}
