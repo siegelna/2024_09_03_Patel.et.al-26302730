{
 "cells": [
  {
   "cell_type": "code",
   "execution_count": 50,
   "metadata": {
    "vscode": {
     "languageId": "r"
    }
   },
   "outputs": [],
   "source": [
    "suppressPackageStartupMessages({\n",
    "    library(GEOquery)\n",
    "    library(edgeR)\n",
    "    library(dplyr)\n",
    "    library(biomaRt)\n",
    "    library(ggplot2)\n",
    "    library(reshape2)\n",
    "    library(hugene10stprobeset.db)\n",
    "    library(tidyr)\n",
    "})"
   ]
  },
  {
   "cell_type": "code",
   "execution_count": 2,
   "metadata": {
    "vscode": {
     "languageId": "r"
    }
   },
   "outputs": [
    {
     "name": "stderr",
     "output_type": "stream",
     "text": [
      "Found 1 file(s)\n",
      "\n",
      "GSE57178_series_matrix.txt.gz\n",
      "\n"
     ]
    },
    {
     "data": {
      "text/html": [
       "<table class=\"dataframe\">\n",
       "<caption>A matrix: 6 × 18 of type dbl</caption>\n",
       "<thead>\n",
       "\t<tr><th></th><th scope=col>GSM1376737</th><th scope=col>GSM1376738</th><th scope=col>GSM1376739</th><th scope=col>GSM1376740</th><th scope=col>GSM1376741</th><th scope=col>GSM1376742</th><th scope=col>GSM1376743</th><th scope=col>GSM1376744</th><th scope=col>GSM1376745</th><th scope=col>GSM1376746</th><th scope=col>GSM1376747</th><th scope=col>GSM1376748</th><th scope=col>GSM1376749</th><th scope=col>GSM1376750</th><th scope=col>GSM1376751</th><th scope=col>GSM1376752</th><th scope=col>GSM1376753</th><th scope=col>GSM1376754</th></tr>\n",
       "</thead>\n",
       "<tbody>\n",
       "\t<tr><th scope=row>7892501</th><td>6.46686</td><td>5.80707</td><td>6.18706</td><td>6.12905</td><td>6.00000</td><td>6.38717</td><td>5.87161</td><td>5.55011</td><td>5.43289</td><td>4.87511</td><td>6.71900</td><td>6.36994</td><td>5.99168</td><td>6.05723</td><td>6.29622</td><td>6.07141</td><td>5.58017</td><td>6.58692</td></tr>\n",
       "\t<tr><th scope=row>7892502</th><td>6.23867</td><td>5.45787</td><td>5.54593</td><td>5.70058</td><td>5.88025</td><td>5.46561</td><td>5.40016</td><td>5.70585</td><td>5.89744</td><td>5.85964</td><td>5.74370</td><td>5.97921</td><td>5.45791</td><td>5.59953</td><td>5.57489</td><td>5.67623</td><td>5.36112</td><td>5.68307</td></tr>\n",
       "\t<tr><th scope=row>7892503</th><td>4.22012</td><td>4.70004</td><td>4.16694</td><td>4.29442</td><td>4.23937</td><td>4.26177</td><td>4.44598</td><td>3.89638</td><td>4.13304</td><td>4.54395</td><td>4.31386</td><td>4.18171</td><td>4.49276</td><td>3.94544</td><td>4.59157</td><td>4.21806</td><td>5.10309</td><td>4.19518</td></tr>\n",
       "\t<tr><th scope=row>7892504</th><td>9.17712</td><td>9.23920</td><td>9.04600</td><td>9.05245</td><td>9.40533</td><td>9.73973</td><td>8.86919</td><td>9.33503</td><td>9.33948</td><td>9.26910</td><td>9.17750</td><td>9.16691</td><td>9.37063</td><td>9.21811</td><td>9.23594</td><td>9.66123</td><td>9.09848</td><td>9.19735</td></tr>\n",
       "\t<tr><th scope=row>7892505</th><td>5.23201</td><td>5.26065</td><td>4.62539</td><td>5.27837</td><td>4.85971</td><td>5.41090</td><td>5.34409</td><td>4.71479</td><td>5.27633</td><td>4.75232</td><td>4.98828</td><td>4.88814</td><td>5.04073</td><td>5.12542</td><td>4.93100</td><td>5.08791</td><td>5.23171</td><td>4.92252</td></tr>\n",
       "\t<tr><th scope=row>7892506</th><td>4.14614</td><td>3.80165</td><td>3.85133</td><td>3.90198</td><td>3.96003</td><td>4.15932</td><td>3.76416</td><td>3.72104</td><td>3.50456</td><td>3.94329</td><td>4.17497</td><td>4.34645</td><td>3.97638</td><td>3.95167</td><td>4.18404</td><td>3.84538</td><td>4.08420</td><td>4.24203</td></tr>\n",
       "</tbody>\n",
       "</table>\n"
      ],
      "text/latex": [
       "A matrix: 6 × 18 of type dbl\n",
       "\\begin{tabular}{r|llllllllllllllllll}\n",
       "  & GSM1376737 & GSM1376738 & GSM1376739 & GSM1376740 & GSM1376741 & GSM1376742 & GSM1376743 & GSM1376744 & GSM1376745 & GSM1376746 & GSM1376747 & GSM1376748 & GSM1376749 & GSM1376750 & GSM1376751 & GSM1376752 & GSM1376753 & GSM1376754\\\\\n",
       "\\hline\n",
       "\t7892501 & 6.46686 & 5.80707 & 6.18706 & 6.12905 & 6.00000 & 6.38717 & 5.87161 & 5.55011 & 5.43289 & 4.87511 & 6.71900 & 6.36994 & 5.99168 & 6.05723 & 6.29622 & 6.07141 & 5.58017 & 6.58692\\\\\n",
       "\t7892502 & 6.23867 & 5.45787 & 5.54593 & 5.70058 & 5.88025 & 5.46561 & 5.40016 & 5.70585 & 5.89744 & 5.85964 & 5.74370 & 5.97921 & 5.45791 & 5.59953 & 5.57489 & 5.67623 & 5.36112 & 5.68307\\\\\n",
       "\t7892503 & 4.22012 & 4.70004 & 4.16694 & 4.29442 & 4.23937 & 4.26177 & 4.44598 & 3.89638 & 4.13304 & 4.54395 & 4.31386 & 4.18171 & 4.49276 & 3.94544 & 4.59157 & 4.21806 & 5.10309 & 4.19518\\\\\n",
       "\t7892504 & 9.17712 & 9.23920 & 9.04600 & 9.05245 & 9.40533 & 9.73973 & 8.86919 & 9.33503 & 9.33948 & 9.26910 & 9.17750 & 9.16691 & 9.37063 & 9.21811 & 9.23594 & 9.66123 & 9.09848 & 9.19735\\\\\n",
       "\t7892505 & 5.23201 & 5.26065 & 4.62539 & 5.27837 & 4.85971 & 5.41090 & 5.34409 & 4.71479 & 5.27633 & 4.75232 & 4.98828 & 4.88814 & 5.04073 & 5.12542 & 4.93100 & 5.08791 & 5.23171 & 4.92252\\\\\n",
       "\t7892506 & 4.14614 & 3.80165 & 3.85133 & 3.90198 & 3.96003 & 4.15932 & 3.76416 & 3.72104 & 3.50456 & 3.94329 & 4.17497 & 4.34645 & 3.97638 & 3.95167 & 4.18404 & 3.84538 & 4.08420 & 4.24203\\\\\n",
       "\\end{tabular}\n"
      ],
      "text/markdown": [
       "\n",
       "A matrix: 6 × 18 of type dbl\n",
       "\n",
       "| <!--/--> | GSM1376737 | GSM1376738 | GSM1376739 | GSM1376740 | GSM1376741 | GSM1376742 | GSM1376743 | GSM1376744 | GSM1376745 | GSM1376746 | GSM1376747 | GSM1376748 | GSM1376749 | GSM1376750 | GSM1376751 | GSM1376752 | GSM1376753 | GSM1376754 |\n",
       "|---|---|---|---|---|---|---|---|---|---|---|---|---|---|---|---|---|---|---|\n",
       "| 7892501 | 6.46686 | 5.80707 | 6.18706 | 6.12905 | 6.00000 | 6.38717 | 5.87161 | 5.55011 | 5.43289 | 4.87511 | 6.71900 | 6.36994 | 5.99168 | 6.05723 | 6.29622 | 6.07141 | 5.58017 | 6.58692 |\n",
       "| 7892502 | 6.23867 | 5.45787 | 5.54593 | 5.70058 | 5.88025 | 5.46561 | 5.40016 | 5.70585 | 5.89744 | 5.85964 | 5.74370 | 5.97921 | 5.45791 | 5.59953 | 5.57489 | 5.67623 | 5.36112 | 5.68307 |\n",
       "| 7892503 | 4.22012 | 4.70004 | 4.16694 | 4.29442 | 4.23937 | 4.26177 | 4.44598 | 3.89638 | 4.13304 | 4.54395 | 4.31386 | 4.18171 | 4.49276 | 3.94544 | 4.59157 | 4.21806 | 5.10309 | 4.19518 |\n",
       "| 7892504 | 9.17712 | 9.23920 | 9.04600 | 9.05245 | 9.40533 | 9.73973 | 8.86919 | 9.33503 | 9.33948 | 9.26910 | 9.17750 | 9.16691 | 9.37063 | 9.21811 | 9.23594 | 9.66123 | 9.09848 | 9.19735 |\n",
       "| 7892505 | 5.23201 | 5.26065 | 4.62539 | 5.27837 | 4.85971 | 5.41090 | 5.34409 | 4.71479 | 5.27633 | 4.75232 | 4.98828 | 4.88814 | 5.04073 | 5.12542 | 4.93100 | 5.08791 | 5.23171 | 4.92252 |\n",
       "| 7892506 | 4.14614 | 3.80165 | 3.85133 | 3.90198 | 3.96003 | 4.15932 | 3.76416 | 3.72104 | 3.50456 | 3.94329 | 4.17497 | 4.34645 | 3.97638 | 3.95167 | 4.18404 | 3.84538 | 4.08420 | 4.24203 |\n",
       "\n"
      ],
      "text/plain": [
       "        GSM1376737 GSM1376738 GSM1376739 GSM1376740 GSM1376741 GSM1376742\n",
       "7892501 6.46686    5.80707    6.18706    6.12905    6.00000    6.38717   \n",
       "7892502 6.23867    5.45787    5.54593    5.70058    5.88025    5.46561   \n",
       "7892503 4.22012    4.70004    4.16694    4.29442    4.23937    4.26177   \n",
       "7892504 9.17712    9.23920    9.04600    9.05245    9.40533    9.73973   \n",
       "7892505 5.23201    5.26065    4.62539    5.27837    4.85971    5.41090   \n",
       "7892506 4.14614    3.80165    3.85133    3.90198    3.96003    4.15932   \n",
       "        GSM1376743 GSM1376744 GSM1376745 GSM1376746 GSM1376747 GSM1376748\n",
       "7892501 5.87161    5.55011    5.43289    4.87511    6.71900    6.36994   \n",
       "7892502 5.40016    5.70585    5.89744    5.85964    5.74370    5.97921   \n",
       "7892503 4.44598    3.89638    4.13304    4.54395    4.31386    4.18171   \n",
       "7892504 8.86919    9.33503    9.33948    9.26910    9.17750    9.16691   \n",
       "7892505 5.34409    4.71479    5.27633    4.75232    4.98828    4.88814   \n",
       "7892506 3.76416    3.72104    3.50456    3.94329    4.17497    4.34645   \n",
       "        GSM1376749 GSM1376750 GSM1376751 GSM1376752 GSM1376753 GSM1376754\n",
       "7892501 5.99168    6.05723    6.29622    6.07141    5.58017    6.58692   \n",
       "7892502 5.45791    5.59953    5.57489    5.67623    5.36112    5.68307   \n",
       "7892503 4.49276    3.94544    4.59157    4.21806    5.10309    4.19518   \n",
       "7892504 9.37063    9.21811    9.23594    9.66123    9.09848    9.19735   \n",
       "7892505 5.04073    5.12542    4.93100    5.08791    5.23171    4.92252   \n",
       "7892506 3.97638    3.95167    4.18404    3.84538    4.08420    4.24203   "
      ]
     },
     "metadata": {},
     "output_type": "display_data"
    }
   ],
   "source": [
    "# Download GEO data\n",
    "gse <- getGEO(\"GSE57178\", GSEMatrix = TRUE)\n",
    "exprSet <- exprs(gse[[1]])\n",
    "head(exprSet)"
   ]
  },
  {
   "cell_type": "code",
   "execution_count": 20,
   "metadata": {
    "vscode": {
     "languageId": "r"
    }
   },
   "outputs": [
    {
     "data": {
      "text/html": [
       "<table class=\"dataframe\">\n",
       "<caption>A data.frame: 6 × 4</caption>\n",
       "<thead>\n",
       "\t<tr><th></th><th scope=col>AFFY.HuGene.1.0.st.v1.probe</th><th scope=col>HGNC.symbol</th><th scope=col>AFFY.HuGene.1.0.st.v1.probe.1</th><th scope=col>HGNC.symbol.1</th></tr>\n",
       "\t<tr><th></th><th scope=col>&lt;int&gt;</th><th scope=col>&lt;chr&gt;</th><th scope=col>&lt;int&gt;</th><th scope=col>&lt;chr&gt;</th></tr>\n",
       "</thead>\n",
       "<tbody>\n",
       "\t<tr><th scope=row>1</th><td>8180369</td><td>        </td><td>8180369</td><td>        </td></tr>\n",
       "\t<tr><th scope=row>2</th><td>8180357</td><td>        </td><td>8180357</td><td>        </td></tr>\n",
       "\t<tr><th scope=row>3</th><td>7895574</td><td>HNRNPCL1</td><td>7895574</td><td>HNRNPCL1</td></tr>\n",
       "\t<tr><th scope=row>4</th><td>8180254</td><td>KRTAP5-3</td><td>8180254</td><td>KRTAP5-3</td></tr>\n",
       "\t<tr><th scope=row>5</th><td>8180382</td><td>KRTAP5-4</td><td>8180382</td><td>KRTAP5-4</td></tr>\n",
       "\t<tr><th scope=row>6</th><td>7895157</td><td>        </td><td>7895157</td><td>        </td></tr>\n",
       "</tbody>\n",
       "</table>\n"
      ],
      "text/latex": [
       "A data.frame: 6 × 4\n",
       "\\begin{tabular}{r|llll}\n",
       "  & AFFY.HuGene.1.0.st.v1.probe & HGNC.symbol & AFFY.HuGene.1.0.st.v1.probe.1 & HGNC.symbol.1\\\\\n",
       "  & <int> & <chr> & <int> & <chr>\\\\\n",
       "\\hline\n",
       "\t1 & 8180369 &          & 8180369 &         \\\\\n",
       "\t2 & 8180357 &          & 8180357 &         \\\\\n",
       "\t3 & 7895574 & HNRNPCL1 & 7895574 & HNRNPCL1\\\\\n",
       "\t4 & 8180254 & KRTAP5-3 & 8180254 & KRTAP5-3\\\\\n",
       "\t5 & 8180382 & KRTAP5-4 & 8180382 & KRTAP5-4\\\\\n",
       "\t6 & 7895157 &          & 7895157 &         \\\\\n",
       "\\end{tabular}\n"
      ],
      "text/markdown": [
       "\n",
       "A data.frame: 6 × 4\n",
       "\n",
       "| <!--/--> | AFFY.HuGene.1.0.st.v1.probe &lt;int&gt; | HGNC.symbol &lt;chr&gt; | AFFY.HuGene.1.0.st.v1.probe.1 &lt;int&gt; | HGNC.symbol.1 &lt;chr&gt; |\n",
       "|---|---|---|---|---|\n",
       "| 1 | 8180369 | <!----> | 8180369 | <!----> |\n",
       "| 2 | 8180357 | <!----> | 8180357 | <!----> |\n",
       "| 3 | 7895574 | HNRNPCL1 | 7895574 | HNRNPCL1 |\n",
       "| 4 | 8180254 | KRTAP5-3 | 8180254 | KRTAP5-3 |\n",
       "| 5 | 8180382 | KRTAP5-4 | 8180382 | KRTAP5-4 |\n",
       "| 6 | 7895157 | <!----> | 7895157 | <!----> |\n",
       "\n"
      ],
      "text/plain": [
       "  AFFY.HuGene.1.0.st.v1.probe HGNC.symbol AFFY.HuGene.1.0.st.v1.probe.1\n",
       "1 8180369                                 8180369                      \n",
       "2 8180357                                 8180357                      \n",
       "3 7895574                     HNRNPCL1    7895574                      \n",
       "4 8180254                     KRTAP5-3    8180254                      \n",
       "5 8180382                     KRTAP5-4    8180382                      \n",
       "6 7895157                                 7895157                      \n",
       "  HGNC.symbol.1\n",
       "1              \n",
       "2              \n",
       "3 HNRNPCL1     \n",
       "4 KRTAP5-3     \n",
       "5 KRTAP5-4     \n",
       "6              "
      ]
     },
     "metadata": {},
     "output_type": "display_data"
    }
   ],
   "source": [
    "mart = useMart(\"ensembl\", dataset = \"hsapiens_gene_ensembl\")\n",
    "ids <- Lkeys(hugene10stprobesetENTREZID)\n",
    "gene_info <- getLDS(attributes = c(\"affy_hugene_1_0_st_v1\", \"hgnc_symbol\"),\n",
    "                    filters = \"affy_hugene_1_0_st_v1\",\n",
    "                    values = ids,\n",
    "                    mart = mart,\n",
    "                    attributesL = c(\"affy_hugene_1_0_st_v1\", \"hgnc_symbol\"),\n",
    "                    martL = mart)\n",
    "head(gene_info)"
   ]
  },
  {
   "cell_type": "code",
   "execution_count": 33,
   "metadata": {
    "vscode": {
     "languageId": "r"
    }
   },
   "outputs": [],
   "source": [
    "# Clean up annotations\n",
    "affy_annot <- gene_info %>%\n",
    "  dplyr::mutate(HGNC.symbol = ifelse(HGNC.symbol == \"\", AFFY.HuGene.1.0.st.v1.probe, HGNC.symbol)) %>%\n",
    "  dplyr::select(AFFY.HuGene.1.0.st.v1.probe, HGNC.symbol) %>%\n",
    "  mutate(across(everything(), as.character))"
   ]
  },
  {
   "cell_type": "code",
   "execution_count": 36,
   "metadata": {
    "vscode": {
     "languageId": "r"
    }
   },
   "outputs": [
    {
     "data": {
      "text/html": [
       "<table class=\"dataframe\">\n",
       "<caption>A matrix: 6 × 18 of type dbl</caption>\n",
       "<thead>\n",
       "\t<tr><th></th><th scope=col>GSM1376737</th><th scope=col>GSM1376738</th><th scope=col>GSM1376739</th><th scope=col>GSM1376740</th><th scope=col>GSM1376741</th><th scope=col>GSM1376742</th><th scope=col>GSM1376743</th><th scope=col>GSM1376744</th><th scope=col>GSM1376745</th><th scope=col>GSM1376746</th><th scope=col>GSM1376747</th><th scope=col>GSM1376748</th><th scope=col>GSM1376749</th><th scope=col>GSM1376750</th><th scope=col>GSM1376751</th><th scope=col>GSM1376752</th><th scope=col>GSM1376753</th><th scope=col>GSM1376754</th></tr>\n",
       "</thead>\n",
       "<tbody>\n",
       "\t<tr><th scope=row>JTB</th><td>6.46686</td><td>5.80707</td><td>6.18706</td><td>6.12905</td><td>6.00000</td><td>6.38717</td><td>5.87161</td><td>5.55011</td><td>5.43289</td><td>4.87511</td><td>6.71900</td><td>6.36994</td><td>5.99168</td><td>6.05723</td><td>6.29622</td><td>6.07141</td><td>5.58017</td><td>6.58692</td></tr>\n",
       "\t<tr><th scope=row>7892512</th><td>6.23867</td><td>5.45787</td><td>5.54593</td><td>5.70058</td><td>5.88025</td><td>5.46561</td><td>5.40016</td><td>5.70585</td><td>5.89744</td><td>5.85964</td><td>5.74370</td><td>5.97921</td><td>5.45791</td><td>5.59953</td><td>5.57489</td><td>5.67623</td><td>5.36112</td><td>5.68307</td></tr>\n",
       "\t<tr><th scope=row>NPM1P22</th><td>4.22012</td><td>4.70004</td><td>4.16694</td><td>4.29442</td><td>4.23937</td><td>4.26177</td><td>4.44598</td><td>3.89638</td><td>4.13304</td><td>4.54395</td><td>4.31386</td><td>4.18171</td><td>4.49276</td><td>3.94544</td><td>4.59157</td><td>4.21806</td><td>5.10309</td><td>4.19518</td></tr>\n",
       "\t<tr><th scope=row>NPM1P6</th><td>9.17712</td><td>9.23920</td><td>9.04600</td><td>9.05245</td><td>9.40533</td><td>9.73973</td><td>8.86919</td><td>9.33503</td><td>9.33948</td><td>9.26910</td><td>9.17750</td><td>9.16691</td><td>9.37063</td><td>9.21811</td><td>9.23594</td><td>9.66123</td><td>9.09848</td><td>9.19735</td></tr>\n",
       "\t<tr><th scope=row>7892530</th><td>5.23201</td><td>5.26065</td><td>4.62539</td><td>5.27837</td><td>4.85971</td><td>5.41090</td><td>5.34409</td><td>4.71479</td><td>5.27633</td><td>4.75232</td><td>4.98828</td><td>4.88814</td><td>5.04073</td><td>5.12542</td><td>4.93100</td><td>5.08791</td><td>5.23171</td><td>4.92252</td></tr>\n",
       "\t<tr><th scope=row>NPM1P3</th><td>4.14614</td><td>3.80165</td><td>3.85133</td><td>3.90198</td><td>3.96003</td><td>4.15932</td><td>3.76416</td><td>3.72104</td><td>3.50456</td><td>3.94329</td><td>4.17497</td><td>4.34645</td><td>3.97638</td><td>3.95167</td><td>4.18404</td><td>3.84538</td><td>4.08420</td><td>4.24203</td></tr>\n",
       "</tbody>\n",
       "</table>\n"
      ],
      "text/latex": [
       "A matrix: 6 × 18 of type dbl\n",
       "\\begin{tabular}{r|llllllllllllllllll}\n",
       "  & GSM1376737 & GSM1376738 & GSM1376739 & GSM1376740 & GSM1376741 & GSM1376742 & GSM1376743 & GSM1376744 & GSM1376745 & GSM1376746 & GSM1376747 & GSM1376748 & GSM1376749 & GSM1376750 & GSM1376751 & GSM1376752 & GSM1376753 & GSM1376754\\\\\n",
       "\\hline\n",
       "\tJTB & 6.46686 & 5.80707 & 6.18706 & 6.12905 & 6.00000 & 6.38717 & 5.87161 & 5.55011 & 5.43289 & 4.87511 & 6.71900 & 6.36994 & 5.99168 & 6.05723 & 6.29622 & 6.07141 & 5.58017 & 6.58692\\\\\n",
       "\t7892512 & 6.23867 & 5.45787 & 5.54593 & 5.70058 & 5.88025 & 5.46561 & 5.40016 & 5.70585 & 5.89744 & 5.85964 & 5.74370 & 5.97921 & 5.45791 & 5.59953 & 5.57489 & 5.67623 & 5.36112 & 5.68307\\\\\n",
       "\tNPM1P22 & 4.22012 & 4.70004 & 4.16694 & 4.29442 & 4.23937 & 4.26177 & 4.44598 & 3.89638 & 4.13304 & 4.54395 & 4.31386 & 4.18171 & 4.49276 & 3.94544 & 4.59157 & 4.21806 & 5.10309 & 4.19518\\\\\n",
       "\tNPM1P6 & 9.17712 & 9.23920 & 9.04600 & 9.05245 & 9.40533 & 9.73973 & 8.86919 & 9.33503 & 9.33948 & 9.26910 & 9.17750 & 9.16691 & 9.37063 & 9.21811 & 9.23594 & 9.66123 & 9.09848 & 9.19735\\\\\n",
       "\t7892530 & 5.23201 & 5.26065 & 4.62539 & 5.27837 & 4.85971 & 5.41090 & 5.34409 & 4.71479 & 5.27633 & 4.75232 & 4.98828 & 4.88814 & 5.04073 & 5.12542 & 4.93100 & 5.08791 & 5.23171 & 4.92252\\\\\n",
       "\tNPM1P3 & 4.14614 & 3.80165 & 3.85133 & 3.90198 & 3.96003 & 4.15932 & 3.76416 & 3.72104 & 3.50456 & 3.94329 & 4.17497 & 4.34645 & 3.97638 & 3.95167 & 4.18404 & 3.84538 & 4.08420 & 4.24203\\\\\n",
       "\\end{tabular}\n"
      ],
      "text/markdown": [
       "\n",
       "A matrix: 6 × 18 of type dbl\n",
       "\n",
       "| <!--/--> | GSM1376737 | GSM1376738 | GSM1376739 | GSM1376740 | GSM1376741 | GSM1376742 | GSM1376743 | GSM1376744 | GSM1376745 | GSM1376746 | GSM1376747 | GSM1376748 | GSM1376749 | GSM1376750 | GSM1376751 | GSM1376752 | GSM1376753 | GSM1376754 |\n",
       "|---|---|---|---|---|---|---|---|---|---|---|---|---|---|---|---|---|---|---|\n",
       "| JTB | 6.46686 | 5.80707 | 6.18706 | 6.12905 | 6.00000 | 6.38717 | 5.87161 | 5.55011 | 5.43289 | 4.87511 | 6.71900 | 6.36994 | 5.99168 | 6.05723 | 6.29622 | 6.07141 | 5.58017 | 6.58692 |\n",
       "| 7892512 | 6.23867 | 5.45787 | 5.54593 | 5.70058 | 5.88025 | 5.46561 | 5.40016 | 5.70585 | 5.89744 | 5.85964 | 5.74370 | 5.97921 | 5.45791 | 5.59953 | 5.57489 | 5.67623 | 5.36112 | 5.68307 |\n",
       "| NPM1P22 | 4.22012 | 4.70004 | 4.16694 | 4.29442 | 4.23937 | 4.26177 | 4.44598 | 3.89638 | 4.13304 | 4.54395 | 4.31386 | 4.18171 | 4.49276 | 3.94544 | 4.59157 | 4.21806 | 5.10309 | 4.19518 |\n",
       "| NPM1P6 | 9.17712 | 9.23920 | 9.04600 | 9.05245 | 9.40533 | 9.73973 | 8.86919 | 9.33503 | 9.33948 | 9.26910 | 9.17750 | 9.16691 | 9.37063 | 9.21811 | 9.23594 | 9.66123 | 9.09848 | 9.19735 |\n",
       "| 7892530 | 5.23201 | 5.26065 | 4.62539 | 5.27837 | 4.85971 | 5.41090 | 5.34409 | 4.71479 | 5.27633 | 4.75232 | 4.98828 | 4.88814 | 5.04073 | 5.12542 | 4.93100 | 5.08791 | 5.23171 | 4.92252 |\n",
       "| NPM1P3 | 4.14614 | 3.80165 | 3.85133 | 3.90198 | 3.96003 | 4.15932 | 3.76416 | 3.72104 | 3.50456 | 3.94329 | 4.17497 | 4.34645 | 3.97638 | 3.95167 | 4.18404 | 3.84538 | 4.08420 | 4.24203 |\n",
       "\n"
      ],
      "text/plain": [
       "        GSM1376737 GSM1376738 GSM1376739 GSM1376740 GSM1376741 GSM1376742\n",
       "JTB     6.46686    5.80707    6.18706    6.12905    6.00000    6.38717   \n",
       "7892512 6.23867    5.45787    5.54593    5.70058    5.88025    5.46561   \n",
       "NPM1P22 4.22012    4.70004    4.16694    4.29442    4.23937    4.26177   \n",
       "NPM1P6  9.17712    9.23920    9.04600    9.05245    9.40533    9.73973   \n",
       "7892530 5.23201    5.26065    4.62539    5.27837    4.85971    5.41090   \n",
       "NPM1P3  4.14614    3.80165    3.85133    3.90198    3.96003    4.15932   \n",
       "        GSM1376743 GSM1376744 GSM1376745 GSM1376746 GSM1376747 GSM1376748\n",
       "JTB     5.87161    5.55011    5.43289    4.87511    6.71900    6.36994   \n",
       "7892512 5.40016    5.70585    5.89744    5.85964    5.74370    5.97921   \n",
       "NPM1P22 4.44598    3.89638    4.13304    4.54395    4.31386    4.18171   \n",
       "NPM1P6  8.86919    9.33503    9.33948    9.26910    9.17750    9.16691   \n",
       "7892530 5.34409    4.71479    5.27633    4.75232    4.98828    4.88814   \n",
       "NPM1P3  3.76416    3.72104    3.50456    3.94329    4.17497    4.34645   \n",
       "        GSM1376749 GSM1376750 GSM1376751 GSM1376752 GSM1376753 GSM1376754\n",
       "JTB     5.99168    6.05723    6.29622    6.07141    5.58017    6.58692   \n",
       "7892512 5.45791    5.59953    5.57489    5.67623    5.36112    5.68307   \n",
       "NPM1P22 4.49276    3.94544    4.59157    4.21806    5.10309    4.19518   \n",
       "NPM1P6  9.37063    9.21811    9.23594    9.66123    9.09848    9.19735   \n",
       "7892530 5.04073    5.12542    4.93100    5.08791    5.23171    4.92252   \n",
       "NPM1P3  3.97638    3.95167    4.18404    3.84538    4.08420    4.24203   "
      ]
     },
     "metadata": {},
     "output_type": "display_data"
    }
   ],
   "source": [
    "# Add common gene names\n",
    "cols <- as.data.frame(rownames(exprSet))\n",
    "new_names <- left_join(cols, affy_annot, by = c(\"rownames(exprSet)\" = \"AFFY.HuGene.1.0.st.v1.probe\")) %>% na.omit()\n",
    "rownames(exprSet) <- new_names$HGNC.symbol[match(rownames(exprSet), rownames(exprSet))]\n",
    "exprSet <- exprSet[!is.na(rownames(exprSet)), ]\n",
    "head(exprSet)"
   ]
  },
  {
   "cell_type": "code",
   "execution_count": 78,
   "metadata": {
    "vscode": {
     "languageId": "r"
    }
   },
   "outputs": [
    {
     "data": {
      "text/html": [
       "<table class=\"dataframe\">\n",
       "<caption>A data.frame: 18 × 3</caption>\n",
       "<thead>\n",
       "\t<tr><th scope=col>Sample</th><th scope=col>Donor</th><th scope=col>Stim</th></tr>\n",
       "\t<tr><th scope=col>&lt;chr&gt;</th><th scope=col>&lt;chr&gt;</th><th scope=col>&lt;chr&gt;</th></tr>\n",
       "</thead>\n",
       "<tbody>\n",
       "\t<tr><td>GSM1376737</td><td>Patient 1</td><td>lesion </td></tr>\n",
       "\t<tr><td>GSM1376738</td><td>Patient 1</td><td>control</td></tr>\n",
       "\t<tr><td>GSM1376739</td><td>Patient 2</td><td>lesion </td></tr>\n",
       "\t<tr><td>GSM1376740</td><td>Patient 2</td><td>control</td></tr>\n",
       "\t<tr><td>GSM1376741</td><td>Patient 3</td><td>lesion </td></tr>\n",
       "\t<tr><td>GSM1376742</td><td>Patient 3</td><td>control</td></tr>\n",
       "\t<tr><td>GSM1376743</td><td>Patient 4</td><td>lesion </td></tr>\n",
       "\t<tr><td>GSM1376744</td><td>Patient 4</td><td>control</td></tr>\n",
       "\t<tr><td>GSM1376745</td><td>Patient 6</td><td>lesion </td></tr>\n",
       "\t<tr><td>GSM1376746</td><td>Patient 6</td><td>control</td></tr>\n",
       "\t<tr><td>GSM1376747</td><td>Patient 7</td><td>lesion </td></tr>\n",
       "\t<tr><td>GSM1376748</td><td>Patient 7</td><td>control</td></tr>\n",
       "\t<tr><td>GSM1376749</td><td>Patient 8</td><td>control</td></tr>\n",
       "\t<tr><td>GSM1376750</td><td>Normal 11</td><td>control</td></tr>\n",
       "\t<tr><td>GSM1376751</td><td>Normal 12</td><td>control</td></tr>\n",
       "\t<tr><td>GSM1376752</td><td>Normal 13</td><td>control</td></tr>\n",
       "\t<tr><td>GSM1376753</td><td>Normal 14</td><td>control</td></tr>\n",
       "\t<tr><td>GSM1376754</td><td>Normal 15</td><td>control</td></tr>\n",
       "</tbody>\n",
       "</table>\n"
      ],
      "text/latex": [
       "A data.frame: 18 × 3\n",
       "\\begin{tabular}{lll}\n",
       " Sample & Donor & Stim\\\\\n",
       " <chr> & <chr> & <chr>\\\\\n",
       "\\hline\n",
       "\t GSM1376737 & Patient 1 & lesion \\\\\n",
       "\t GSM1376738 & Patient 1 & control\\\\\n",
       "\t GSM1376739 & Patient 2 & lesion \\\\\n",
       "\t GSM1376740 & Patient 2 & control\\\\\n",
       "\t GSM1376741 & Patient 3 & lesion \\\\\n",
       "\t GSM1376742 & Patient 3 & control\\\\\n",
       "\t GSM1376743 & Patient 4 & lesion \\\\\n",
       "\t GSM1376744 & Patient 4 & control\\\\\n",
       "\t GSM1376745 & Patient 6 & lesion \\\\\n",
       "\t GSM1376746 & Patient 6 & control\\\\\n",
       "\t GSM1376747 & Patient 7 & lesion \\\\\n",
       "\t GSM1376748 & Patient 7 & control\\\\\n",
       "\t GSM1376749 & Patient 8 & control\\\\\n",
       "\t GSM1376750 & Normal 11 & control\\\\\n",
       "\t GSM1376751 & Normal 12 & control\\\\\n",
       "\t GSM1376752 & Normal 13 & control\\\\\n",
       "\t GSM1376753 & Normal 14 & control\\\\\n",
       "\t GSM1376754 & Normal 15 & control\\\\\n",
       "\\end{tabular}\n"
      ],
      "text/markdown": [
       "\n",
       "A data.frame: 18 × 3\n",
       "\n",
       "| Sample &lt;chr&gt; | Donor &lt;chr&gt; | Stim &lt;chr&gt; |\n",
       "|---|---|---|\n",
       "| GSM1376737 | Patient 1 | lesion  |\n",
       "| GSM1376738 | Patient 1 | control |\n",
       "| GSM1376739 | Patient 2 | lesion  |\n",
       "| GSM1376740 | Patient 2 | control |\n",
       "| GSM1376741 | Patient 3 | lesion  |\n",
       "| GSM1376742 | Patient 3 | control |\n",
       "| GSM1376743 | Patient 4 | lesion  |\n",
       "| GSM1376744 | Patient 4 | control |\n",
       "| GSM1376745 | Patient 6 | lesion  |\n",
       "| GSM1376746 | Patient 6 | control |\n",
       "| GSM1376747 | Patient 7 | lesion  |\n",
       "| GSM1376748 | Patient 7 | control |\n",
       "| GSM1376749 | Patient 8 | control |\n",
       "| GSM1376750 | Normal 11 | control |\n",
       "| GSM1376751 | Normal 12 | control |\n",
       "| GSM1376752 | Normal 13 | control |\n",
       "| GSM1376753 | Normal 14 | control |\n",
       "| GSM1376754 | Normal 15 | control |\n",
       "\n"
      ],
      "text/plain": [
       "   Sample     Donor     Stim   \n",
       "1  GSM1376737 Patient 1 lesion \n",
       "2  GSM1376738 Patient 1 control\n",
       "3  GSM1376739 Patient 2 lesion \n",
       "4  GSM1376740 Patient 2 control\n",
       "5  GSM1376741 Patient 3 lesion \n",
       "6  GSM1376742 Patient 3 control\n",
       "7  GSM1376743 Patient 4 lesion \n",
       "8  GSM1376744 Patient 4 control\n",
       "9  GSM1376745 Patient 6 lesion \n",
       "10 GSM1376746 Patient 6 control\n",
       "11 GSM1376747 Patient 7 lesion \n",
       "12 GSM1376748 Patient 7 control\n",
       "13 GSM1376749 Patient 8 control\n",
       "14 GSM1376750 Normal 11 control\n",
       "15 GSM1376751 Normal 12 control\n",
       "16 GSM1376752 Normal 13 control\n",
       "17 GSM1376753 Normal 14 control\n",
       "18 GSM1376754 Normal 15 control"
      ]
     },
     "metadata": {},
     "output_type": "display_data"
    }
   ],
   "source": [
    "# Clean up metadata\n",
    "pdata <- pData(phenoData(gse[[1]]))\n",
    "pdata <- pdata%>%\n",
    "    dplyr::select(title) %>%\n",
    "  separate(title, into = c(\"Donor\", \"Stim\"), sep = \", \") %>%\n",
    "  mutate(\n",
    "    Donor = trimws(Donor),\n",
    "    Stim = gsub(\"tissue\", \"\", Stim), \n",
    "    Stim = trimws(Stim)\n",
    "  )\n",
    "pdata$Sample <- rownames(pdata)\n",
    "rownames(pdata) <- NULL\n",
    "pdata <- pdata %>% dplyr::select(Sample, Donor, Stim)\n",
    "pdata"
   ]
  },
  {
   "cell_type": "markdown",
   "metadata": {},
   "source": [
    "## Normalize Data"
   ]
  },
  {
   "cell_type": "code",
   "execution_count": 79,
   "metadata": {
    "vscode": {
     "languageId": "r"
    }
   },
   "outputs": [
    {
     "data": {
      "text/html": [
       "<style>\n",
       ".list-inline {list-style: none; margin:0; padding: 0}\n",
       ".list-inline>li {display: inline-block}\n",
       ".list-inline>li:not(:last-child)::after {content: \"\\00b7\"; padding: 0 .5ex}\n",
       "</style>\n",
       "<ol class=list-inline><li>2621</li><li>18</li></ol>\n"
      ],
      "text/latex": [
       "\\begin{enumerate*}\n",
       "\\item 2621\n",
       "\\item 18\n",
       "\\end{enumerate*}\n"
      ],
      "text/markdown": [
       "1. 2621\n",
       "2. 18\n",
       "\n",
       "\n"
      ],
      "text/plain": [
       "[1] 2621   18"
      ]
     },
     "metadata": {},
     "output_type": "display_data"
    }
   ],
   "source": [
    "dgeFull1 = DGEList(counts = exprSet, group = pdata$Stim)\n",
    "dim(dgeFull1)"
   ]
  },
  {
   "cell_type": "code",
   "execution_count": 80,
   "metadata": {
    "vscode": {
     "languageId": "r"
    }
   },
   "outputs": [
    {
     "data": {
      "text/html": [
       "<table class=\"dataframe\">\n",
       "<caption>A data.frame: 6 × 3</caption>\n",
       "<thead>\n",
       "\t<tr><th></th><th scope=col>group</th><th scope=col>lib.size</th><th scope=col>norm.factors</th></tr>\n",
       "\t<tr><th></th><th scope=col>&lt;fct&gt;</th><th scope=col>&lt;dbl&gt;</th><th scope=col>&lt;dbl&gt;</th></tr>\n",
       "</thead>\n",
       "<tbody>\n",
       "\t<tr><th scope=row>GSM1376737</th><td>lesion </td><td>17060.36</td><td>0.9995021</td></tr>\n",
       "\t<tr><th scope=row>GSM1376738</th><td>control</td><td>16867.04</td><td>1.0008992</td></tr>\n",
       "\t<tr><th scope=row>GSM1376739</th><td>lesion </td><td>17086.81</td><td>0.9995976</td></tr>\n",
       "\t<tr><th scope=row>GSM1376740</th><td>control</td><td>16929.22</td><td>1.0012595</td></tr>\n",
       "\t<tr><th scope=row>GSM1376741</th><td>lesion </td><td>17141.81</td><td>0.9983450</td></tr>\n",
       "\t<tr><th scope=row>GSM1376742</th><td>control</td><td>16766.88</td><td>1.0025183</td></tr>\n",
       "</tbody>\n",
       "</table>\n"
      ],
      "text/latex": [
       "A data.frame: 6 × 3\n",
       "\\begin{tabular}{r|lll}\n",
       "  & group & lib.size & norm.factors\\\\\n",
       "  & <fct> & <dbl> & <dbl>\\\\\n",
       "\\hline\n",
       "\tGSM1376737 & lesion  & 17060.36 & 0.9995021\\\\\n",
       "\tGSM1376738 & control & 16867.04 & 1.0008992\\\\\n",
       "\tGSM1376739 & lesion  & 17086.81 & 0.9995976\\\\\n",
       "\tGSM1376740 & control & 16929.22 & 1.0012595\\\\\n",
       "\tGSM1376741 & lesion  & 17141.81 & 0.9983450\\\\\n",
       "\tGSM1376742 & control & 16766.88 & 1.0025183\\\\\n",
       "\\end{tabular}\n"
      ],
      "text/markdown": [
       "\n",
       "A data.frame: 6 × 3\n",
       "\n",
       "| <!--/--> | group &lt;fct&gt; | lib.size &lt;dbl&gt; | norm.factors &lt;dbl&gt; |\n",
       "|---|---|---|---|\n",
       "| GSM1376737 | lesion  | 17060.36 | 0.9995021 |\n",
       "| GSM1376738 | control | 16867.04 | 1.0008992 |\n",
       "| GSM1376739 | lesion  | 17086.81 | 0.9995976 |\n",
       "| GSM1376740 | control | 16929.22 | 1.0012595 |\n",
       "| GSM1376741 | lesion  | 17141.81 | 0.9983450 |\n",
       "| GSM1376742 | control | 16766.88 | 1.0025183 |\n",
       "\n"
      ],
      "text/plain": [
       "           group   lib.size norm.factors\n",
       "GSM1376737 lesion  17060.36 0.9995021   \n",
       "GSM1376738 control 16867.04 1.0008992   \n",
       "GSM1376739 lesion  17086.81 0.9995976   \n",
       "GSM1376740 control 16929.22 1.0012595   \n",
       "GSM1376741 lesion  17141.81 0.9983450   \n",
       "GSM1376742 control 16766.88 1.0025183   "
      ]
     },
     "metadata": {},
     "output_type": "display_data"
    }
   ],
   "source": [
    "dgeFull1 <- calcNormFactors(dgeFull1, method=\"TMM\")\n",
    "head(dgeFull1$samples)"
   ]
  },
  {
   "cell_type": "code",
   "execution_count": 81,
   "metadata": {
    "vscode": {
     "languageId": "r"
    }
   },
   "outputs": [
    {
     "data": {
      "text/html": [
       "<table class=\"dataframe\">\n",
       "<caption>A matrix: 6 × 18 of type dbl</caption>\n",
       "<thead>\n",
       "\t<tr><th></th><th scope=col>GSM1376737</th><th scope=col>GSM1376738</th><th scope=col>GSM1376739</th><th scope=col>GSM1376740</th><th scope=col>GSM1376741</th><th scope=col>GSM1376742</th><th scope=col>GSM1376743</th><th scope=col>GSM1376744</th><th scope=col>GSM1376745</th><th scope=col>GSM1376746</th><th scope=col>GSM1376747</th><th scope=col>GSM1376748</th><th scope=col>GSM1376749</th><th scope=col>GSM1376750</th><th scope=col>GSM1376751</th><th scope=col>GSM1376752</th><th scope=col>GSM1376753</th><th scope=col>GSM1376754</th></tr>\n",
       "</thead>\n",
       "<tbody>\n",
       "\t<tr><th scope=row>JTB</th><td>379.2466</td><td>343.9758</td><td>362.2413</td><td>361.5844</td><td>350.6017</td><td>379.9827</td><td>342.8793</td><td>328.0014</td><td>317.2166</td><td>289.2200</td><td>390.5397</td><td>374.5507</td><td>351.9903</td><td>356.0086</td><td>373.5777</td><td>357.0147</td><td>328.3316</td><td>386.7340</td></tr>\n",
       "\t<tr><th scope=row>X7892512</th><td>365.8645</td><td>323.2913</td><td>324.7043</td><td>336.3067</td><td>343.6043</td><td>325.1576</td><td>315.3484</td><td>337.2053</td><td>344.3409</td><td>347.6281</td><td>333.8507</td><td>351.5759</td><td>320.6332</td><td>329.1076</td><td>330.7786</td><td>333.7771</td><td>315.4429</td><td>333.6668</td></tr>\n",
       "\t<tr><th scope=row>NPM1P22</th><td>247.4873</td><td>278.4020</td><td>243.9669</td><td>253.3500</td><td>247.7217</td><td>253.5393</td><td>259.6280</td><td>230.2689</td><td>241.3207</td><td>269.5736</td><td>250.7417</td><td>245.8834</td><td>263.9340</td><td>231.8899</td><td>272.4346</td><td>248.0329</td><td>300.2607</td><td>246.3092</td></tr>\n",
       "\t<tr><th scope=row>NPM1P6</th><td>538.1887</td><td>547.2745</td><td>529.6272</td><td>534.0508</td><td>549.5875</td><td>579.4317</td><td>517.9264</td><td>551.6832</td><td>545.3153</td><td>549.8971</td><td>533.4392</td><td>539.0118</td><td>550.4918</td><td>541.7866</td><td>548.0020</td><td>568.1054</td><td>535.3454</td><td>539.9987</td></tr>\n",
       "\t<tr><th scope=row>X7892530</th><td>306.8293</td><td>311.6092</td><td>270.8083</td><td>311.3983</td><td>283.9704</td><td>321.9028</td><td>312.0742</td><td>278.6355</td><td>308.0754</td><td>281.9354</td><td>289.9422</td><td>287.4213</td><td>296.1253</td><td>301.2422</td><td>292.5742</td><td>299.1823</td><td>307.8286</td><td>289.0131</td></tr>\n",
       "\t<tr><th scope=row>NPM1P3</th><td>243.1488</td><td>225.1868</td><td>225.4885</td><td>230.1980</td><td>231.3989</td><td>247.4444</td><td>219.8124</td><td>219.9067</td><td>204.6249</td><td>233.9390</td><td>242.6688</td><td>255.5701</td><td>233.5984</td><td>232.2561</td><td>248.2544</td><td>226.1183</td><td>240.3102</td><td>249.0599</td></tr>\n",
       "</tbody>\n",
       "</table>\n"
      ],
      "text/latex": [
       "A matrix: 6 × 18 of type dbl\n",
       "\\begin{tabular}{r|llllllllllllllllll}\n",
       "  & GSM1376737 & GSM1376738 & GSM1376739 & GSM1376740 & GSM1376741 & GSM1376742 & GSM1376743 & GSM1376744 & GSM1376745 & GSM1376746 & GSM1376747 & GSM1376748 & GSM1376749 & GSM1376750 & GSM1376751 & GSM1376752 & GSM1376753 & GSM1376754\\\\\n",
       "\\hline\n",
       "\tJTB & 379.2466 & 343.9758 & 362.2413 & 361.5844 & 350.6017 & 379.9827 & 342.8793 & 328.0014 & 317.2166 & 289.2200 & 390.5397 & 374.5507 & 351.9903 & 356.0086 & 373.5777 & 357.0147 & 328.3316 & 386.7340\\\\\n",
       "\tX7892512 & 365.8645 & 323.2913 & 324.7043 & 336.3067 & 343.6043 & 325.1576 & 315.3484 & 337.2053 & 344.3409 & 347.6281 & 333.8507 & 351.5759 & 320.6332 & 329.1076 & 330.7786 & 333.7771 & 315.4429 & 333.6668\\\\\n",
       "\tNPM1P22 & 247.4873 & 278.4020 & 243.9669 & 253.3500 & 247.7217 & 253.5393 & 259.6280 & 230.2689 & 241.3207 & 269.5736 & 250.7417 & 245.8834 & 263.9340 & 231.8899 & 272.4346 & 248.0329 & 300.2607 & 246.3092\\\\\n",
       "\tNPM1P6 & 538.1887 & 547.2745 & 529.6272 & 534.0508 & 549.5875 & 579.4317 & 517.9264 & 551.6832 & 545.3153 & 549.8971 & 533.4392 & 539.0118 & 550.4918 & 541.7866 & 548.0020 & 568.1054 & 535.3454 & 539.9987\\\\\n",
       "\tX7892530 & 306.8293 & 311.6092 & 270.8083 & 311.3983 & 283.9704 & 321.9028 & 312.0742 & 278.6355 & 308.0754 & 281.9354 & 289.9422 & 287.4213 & 296.1253 & 301.2422 & 292.5742 & 299.1823 & 307.8286 & 289.0131\\\\\n",
       "\tNPM1P3 & 243.1488 & 225.1868 & 225.4885 & 230.1980 & 231.3989 & 247.4444 & 219.8124 & 219.9067 & 204.6249 & 233.9390 & 242.6688 & 255.5701 & 233.5984 & 232.2561 & 248.2544 & 226.1183 & 240.3102 & 249.0599\\\\\n",
       "\\end{tabular}\n"
      ],
      "text/markdown": [
       "\n",
       "A matrix: 6 × 18 of type dbl\n",
       "\n",
       "| <!--/--> | GSM1376737 | GSM1376738 | GSM1376739 | GSM1376740 | GSM1376741 | GSM1376742 | GSM1376743 | GSM1376744 | GSM1376745 | GSM1376746 | GSM1376747 | GSM1376748 | GSM1376749 | GSM1376750 | GSM1376751 | GSM1376752 | GSM1376753 | GSM1376754 |\n",
       "|---|---|---|---|---|---|---|---|---|---|---|---|---|---|---|---|---|---|---|\n",
       "| JTB | 379.2466 | 343.9758 | 362.2413 | 361.5844 | 350.6017 | 379.9827 | 342.8793 | 328.0014 | 317.2166 | 289.2200 | 390.5397 | 374.5507 | 351.9903 | 356.0086 | 373.5777 | 357.0147 | 328.3316 | 386.7340 |\n",
       "| X7892512 | 365.8645 | 323.2913 | 324.7043 | 336.3067 | 343.6043 | 325.1576 | 315.3484 | 337.2053 | 344.3409 | 347.6281 | 333.8507 | 351.5759 | 320.6332 | 329.1076 | 330.7786 | 333.7771 | 315.4429 | 333.6668 |\n",
       "| NPM1P22 | 247.4873 | 278.4020 | 243.9669 | 253.3500 | 247.7217 | 253.5393 | 259.6280 | 230.2689 | 241.3207 | 269.5736 | 250.7417 | 245.8834 | 263.9340 | 231.8899 | 272.4346 | 248.0329 | 300.2607 | 246.3092 |\n",
       "| NPM1P6 | 538.1887 | 547.2745 | 529.6272 | 534.0508 | 549.5875 | 579.4317 | 517.9264 | 551.6832 | 545.3153 | 549.8971 | 533.4392 | 539.0118 | 550.4918 | 541.7866 | 548.0020 | 568.1054 | 535.3454 | 539.9987 |\n",
       "| X7892530 | 306.8293 | 311.6092 | 270.8083 | 311.3983 | 283.9704 | 321.9028 | 312.0742 | 278.6355 | 308.0754 | 281.9354 | 289.9422 | 287.4213 | 296.1253 | 301.2422 | 292.5742 | 299.1823 | 307.8286 | 289.0131 |\n",
       "| NPM1P3 | 243.1488 | 225.1868 | 225.4885 | 230.1980 | 231.3989 | 247.4444 | 219.8124 | 219.9067 | 204.6249 | 233.9390 | 242.6688 | 255.5701 | 233.5984 | 232.2561 | 248.2544 | 226.1183 | 240.3102 | 249.0599 |\n",
       "\n"
      ],
      "text/plain": [
       "         GSM1376737 GSM1376738 GSM1376739 GSM1376740 GSM1376741 GSM1376742\n",
       "JTB      379.2466   343.9758   362.2413   361.5844   350.6017   379.9827  \n",
       "X7892512 365.8645   323.2913   324.7043   336.3067   343.6043   325.1576  \n",
       "NPM1P22  247.4873   278.4020   243.9669   253.3500   247.7217   253.5393  \n",
       "NPM1P6   538.1887   547.2745   529.6272   534.0508   549.5875   579.4317  \n",
       "X7892530 306.8293   311.6092   270.8083   311.3983   283.9704   321.9028  \n",
       "NPM1P3   243.1488   225.1868   225.4885   230.1980   231.3989   247.4444  \n",
       "         GSM1376743 GSM1376744 GSM1376745 GSM1376746 GSM1376747 GSM1376748\n",
       "JTB      342.8793   328.0014   317.2166   289.2200   390.5397   374.5507  \n",
       "X7892512 315.3484   337.2053   344.3409   347.6281   333.8507   351.5759  \n",
       "NPM1P22  259.6280   230.2689   241.3207   269.5736   250.7417   245.8834  \n",
       "NPM1P6   517.9264   551.6832   545.3153   549.8971   533.4392   539.0118  \n",
       "X7892530 312.0742   278.6355   308.0754   281.9354   289.9422   287.4213  \n",
       "NPM1P3   219.8124   219.9067   204.6249   233.9390   242.6688   255.5701  \n",
       "         GSM1376749 GSM1376750 GSM1376751 GSM1376752 GSM1376753 GSM1376754\n",
       "JTB      351.9903   356.0086   373.5777   357.0147   328.3316   386.7340  \n",
       "X7892512 320.6332   329.1076   330.7786   333.7771   315.4429   333.6668  \n",
       "NPM1P22  263.9340   231.8899   272.4346   248.0329   300.2607   246.3092  \n",
       "NPM1P6   550.4918   541.7866   548.0020   568.1054   535.3454   539.9987  \n",
       "X7892530 296.1253   301.2422   292.5742   299.1823   307.8286   289.0131  \n",
       "NPM1P3   233.5984   232.2561   248.2544   226.1183   240.3102   249.0599  "
      ]
     },
     "metadata": {},
     "output_type": "display_data"
    }
   ],
   "source": [
    "eff.lib.size0 <-  dgeFull1$samples$lib.size*dgeFull1$samples$norm.factors\n",
    "analysis <- data.frame(cpm(dgeFull1))\n",
    "colnames(analysis) <- sub(pattern = \"^X\", replacement = \"\", colnames(analysis))\n",
    "analysis <-as.matrix(analysis)\n",
    "head(analysis)"
   ]
  },
  {
   "cell_type": "code",
   "execution_count": 82,
   "metadata": {
    "vscode": {
     "languageId": "r"
    }
   },
   "outputs": [
    {
     "data": {
      "image/png": "[encoded data removed]",
      "text/plain": [
       "plot without title"
      ]
     },
     "metadata": {
      "image/png": {
       "height": 420,
       "width": 420
      }
     },
     "output_type": "display_data"
    }
   ],
   "source": [
    "# Create a box plot\n",
    "counts_mat <- analysis\n",
    "box_plot <- ggplot(data = melt(counts_mat), aes(x = Var2, y = value)) +\n",
    "  geom_boxplot() +\n",
    "  labs(x = \"Samples\", y = \"Counts\") +\n",
    "  theme(axis.text.x = element_text(angle = 90, vjust = 0.5)) + # Rotate x-axis labels for better readability\n",
    "  ggtitle(\"Box Plot of Counts Matrix\")\n",
    "\n",
    "# Compute summary statistics\n",
    "summary_stats <- apply(counts_mat, 2, summary)\n",
    "formatted_summary <- t(round(summary_stats, 2))\n",
    "box_plot"
   ]
  },
  {
   "cell_type": "code",
   "execution_count": 83,
   "metadata": {
    "vscode": {
     "languageId": "r"
    }
   },
   "outputs": [],
   "source": [
    "dir.create(\"CSU_skin_MicroArray_GSE57178\", showWarnings = FALSE)\n",
    "saveRDS(analysis, file = file.path(\"CSU_skin_MicroArray_GSE57178\", \"expression.rds\"))\n",
    "saveRDS(pdata, file = file.path(\"CSU_skin_MicroArray_GSE57178\", \"metadata.rds\"))"
   ]
  },
  {
   "cell_type": "code",
   "execution_count": 86,
   "metadata": {
    "vscode": {
     "languageId": "r"
    }
   },
   "outputs": [],
   "source": [
    "system(\"R -e \\\"shiny::runApp('CSU_skin_MicroArray_GSE57178')\\\"\")"
   ]
  }
 ],
 "metadata": {
  "kernelspec": {
   "display_name": "R",
   "language": "R",
   "name": "ir"
  },
  "language_info": {
   "codemirror_mode": "r",
   "file_extension": ".r",
   "mimetype": "text/x-r-source",
   "name": "R",
   "pygments_lexer": "r",
   "version": "4.3.3"
  }
 },
 "nbformat": 4,
 "nbformat_minor": 2
}
